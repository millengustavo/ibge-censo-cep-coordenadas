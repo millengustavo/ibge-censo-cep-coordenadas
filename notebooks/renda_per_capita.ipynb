{
 "cells": [
  {
   "cell_type": "markdown",
   "id": "4d66ee65",
   "metadata": {},
   "source": [
    "# Renda per Capita aproximada por setor censitário\n",
    "\n",
    "Exemplo de aplicação com os dados do IBGE"
   ]
  },
  {
   "cell_type": "code",
   "execution_count": 4,
   "id": "0885b92d",
   "metadata": {},
   "outputs": [],
   "source": [
    "import os\n",
    "import pandas as pd"
   ]
  },
  {
   "cell_type": "markdown",
   "id": "dc0ffa2f",
   "metadata": {},
   "source": [
    "# 1. Carregando a base que relaciona CEP, coordenadas geográficas e código do setor censitário"
   ]
  },
  {
   "cell_type": "code",
   "execution_count": 3,
   "id": "97e44807",
   "metadata": {},
   "outputs": [
    {
     "data": {
      "text/html": [
       "<div>\n",
       "<style scoped>\n",
       "    .dataframe tbody tr th:only-of-type {\n",
       "        vertical-align: middle;\n",
       "    }\n",
       "\n",
       "    .dataframe tbody tr th {\n",
       "        vertical-align: top;\n",
       "    }\n",
       "\n",
       "    .dataframe thead th {\n",
       "        text-align: right;\n",
       "    }\n",
       "</style>\n",
       "<table border=\"1\" class=\"dataframe\">\n",
       "  <thead>\n",
       "    <tr style=\"text-align: right;\">\n",
       "      <th></th>\n",
       "      <th>POSTCODE</th>\n",
       "      <th>LON</th>\n",
       "      <th>LAT</th>\n",
       "      <th>CD_GEOCODI</th>\n",
       "    </tr>\n",
       "  </thead>\n",
       "  <tbody>\n",
       "    <tr>\n",
       "      <th>0</th>\n",
       "      <td>00000-000</td>\n",
       "      <td>-46.663830</td>\n",
       "      <td>-22.257613</td>\n",
       "      <td>313490505000032</td>\n",
       "    </tr>\n",
       "    <tr>\n",
       "      <th>1</th>\n",
       "      <td>00000-001</td>\n",
       "      <td>-67.838738</td>\n",
       "      <td>-9.921660</td>\n",
       "      <td>120040105000325</td>\n",
       "    </tr>\n",
       "    <tr>\n",
       "      <th>2</th>\n",
       "      <td>00000-002</td>\n",
       "      <td>-67.880508</td>\n",
       "      <td>-9.882072</td>\n",
       "      <td>120040105000325</td>\n",
       "    </tr>\n",
       "    <tr>\n",
       "      <th>3</th>\n",
       "      <td>00000-003</td>\n",
       "      <td>-46.514443</td>\n",
       "      <td>-21.820570</td>\n",
       "      <td>315180005000240</td>\n",
       "    </tr>\n",
       "    <tr>\n",
       "      <th>4</th>\n",
       "      <td>00000-004</td>\n",
       "      <td>-67.893353</td>\n",
       "      <td>-9.882038</td>\n",
       "      <td>120040105000325</td>\n",
       "    </tr>\n",
       "  </tbody>\n",
       "</table>\n",
       "</div>"
      ],
      "text/plain": [
       "    POSTCODE        LON        LAT       CD_GEOCODI\n",
       "0  00000-000 -46.663830 -22.257613  313490505000032\n",
       "1  00000-001 -67.838738  -9.921660  120040105000325\n",
       "2  00000-002 -67.880508  -9.882072  120040105000325\n",
       "3  00000-003 -46.514443 -21.820570  315180005000240\n",
       "4  00000-004 -67.893353  -9.882038  120040105000325"
      ]
     },
     "execution_count": 3,
     "metadata": {},
     "output_type": "execute_result"
    }
   ],
   "source": [
    "census_code_cep_coordinates = pd.read_csv(\"../data/processed/census_code_cep_coordinates.csv\")\n",
    "census_code_cep_coordinates.head()"
   ]
  },
  {
   "cell_type": "markdown",
   "id": "a37e133d",
   "metadata": {},
   "source": [
    "# 2. Concatenando os arquivos PessoaRenda_UF.csv"
   ]
  },
  {
   "cell_type": "code",
   "execution_count": 5,
   "id": "4d16bccc",
   "metadata": {},
   "outputs": [],
   "source": [
    "pessoa_renda_paths = []\n",
    "for dirname, dirnames, filenames in os.walk('../data/agregados/extracted/'):\n",
    "    # get all pessoarenda paths\n",
    "    for filename in filenames:\n",
    "        if (\"PessoaRenda\" in filename) and (\".csv\" in filename):\n",
    "            pessoa_renda_paths.append(os.path.join(dirname, filename))"
   ]
  },
  {
   "cell_type": "code",
   "execution_count": 6,
   "id": "a38b4e47",
   "metadata": {},
   "outputs": [
    {
     "data": {
      "text/plain": [
       "['../data/agregados/extracted/SE/Base informaçoes setores2010 universo SE/CSV/PessoaRenda_SE.csv',\n",
       " '../data/agregados/extracted/PE_20171016/PE/Base informaçoes setores2010 universo PE/CSV/PessoaRenda_PE.csv',\n",
       " '../data/agregados/extracted/SC/Base informaçoes setores2010 universo SC/CSV/PessoaRenda_SC.csv']"
      ]
     },
     "execution_count": 6,
     "metadata": {},
     "output_type": "execute_result"
    }
   ],
   "source": [
    "pessoa_renda_paths[:3]"
   ]
  },
  {
   "cell_type": "markdown",
   "id": "32ec7f74",
   "metadata": {},
   "source": [
    "Da documentação:\n",
    "\n",
    "- V020: Pessoas de 10 anos ou mais de idade com ou sem rendimento\n",
    "- V022: Total do rendimento nominal mensal das pessoas de 10 anos ou mais de idade"
   ]
  },
  {
   "cell_type": "code",
   "execution_count": 8,
   "id": "915d5f3a",
   "metadata": {},
   "outputs": [
    {
     "data": {
      "text/html": [
       "<div>\n",
       "<style scoped>\n",
       "    .dataframe tbody tr th:only-of-type {\n",
       "        vertical-align: middle;\n",
       "    }\n",
       "\n",
       "    .dataframe tbody tr th {\n",
       "        vertical-align: top;\n",
       "    }\n",
       "\n",
       "    .dataframe thead th {\n",
       "        text-align: right;\n",
       "    }\n",
       "</style>\n",
       "<table border=\"1\" class=\"dataframe\">\n",
       "  <thead>\n",
       "    <tr style=\"text-align: right;\">\n",
       "      <th></th>\n",
       "      <th>Cod_setor</th>\n",
       "      <th>V020</th>\n",
       "      <th>V022</th>\n",
       "    </tr>\n",
       "  </thead>\n",
       "  <tbody>\n",
       "    <tr>\n",
       "      <th>0</th>\n",
       "      <td>280010005000001</td>\n",
       "      <td>727</td>\n",
       "      <td>263997</td>\n",
       "    </tr>\n",
       "    <tr>\n",
       "      <th>1</th>\n",
       "      <td>280010005000002</td>\n",
       "      <td>378</td>\n",
       "      <td>178925</td>\n",
       "    </tr>\n",
       "    <tr>\n",
       "      <th>2</th>\n",
       "      <td>280010005000003</td>\n",
       "      <td>395</td>\n",
       "      <td>91417</td>\n",
       "    </tr>\n",
       "    <tr>\n",
       "      <th>3</th>\n",
       "      <td>280010005000004</td>\n",
       "      <td>296</td>\n",
       "      <td>62218</td>\n",
       "    </tr>\n",
       "    <tr>\n",
       "      <th>4</th>\n",
       "      <td>280010005000005</td>\n",
       "      <td>51</td>\n",
       "      <td>11121</td>\n",
       "    </tr>\n",
       "  </tbody>\n",
       "</table>\n",
       "</div>"
      ],
      "text/plain": [
       "         Cod_setor V020    V022\n",
       "0  280010005000001  727  263997\n",
       "1  280010005000002  378  178925\n",
       "2  280010005000003  395   91417\n",
       "3  280010005000004  296   62218\n",
       "4  280010005000005   51   11121"
      ]
     },
     "execution_count": 8,
     "metadata": {},
     "output_type": "execute_result"
    }
   ],
   "source": [
    "dfs = [pd.read_csv(f\"{file_path}\", sep=\";\", usecols=[\"Cod_setor\", \"V020\", \"V022\"]) for file_path in pessoa_renda_paths]\n",
    "pessoa_renda_df = pd.concat(dfs)\n",
    "del dfs\n",
    "pessoa_renda_df.head()"
   ]
  },
  {
   "cell_type": "code",
   "execution_count": 9,
   "id": "7f41832f",
   "metadata": {},
   "outputs": [],
   "source": [
    "# cleaning wrong data\n",
    "pessoa_renda_df = pessoa_renda_df[pessoa_renda_df[\"V020\"]!=\"X\"]"
   ]
  },
  {
   "cell_type": "code",
   "execution_count": 10,
   "id": "e269969b",
   "metadata": {},
   "outputs": [],
   "source": [
    "pessoa_renda_df[\"V020\"] = pessoa_renda_df[\"V020\"].astype(int)\n",
    "pessoa_renda_df[\"V022\"] = pessoa_renda_df[\"V022\"].astype(int)"
   ]
  },
  {
   "cell_type": "markdown",
   "id": "26f6eea0",
   "metadata": {},
   "source": [
    "# 3. Calculando a renda per capita aproximada"
   ]
  },
  {
   "cell_type": "code",
   "execution_count": 11,
   "id": "9ad086de",
   "metadata": {},
   "outputs": [],
   "source": [
    "pessoa_renda_df[\"renda_per_capita\"] = pessoa_renda_df[\"V022\"] / pessoa_renda_df[\"V020\"]"
   ]
  },
  {
   "cell_type": "code",
   "execution_count": 12,
   "id": "4d3d7e52",
   "metadata": {},
   "outputs": [],
   "source": [
    "pessoa_renda_df = pessoa_renda_df[[\"Cod_setor\", \"renda_per_capita\"]]"
   ]
  },
  {
   "cell_type": "code",
   "execution_count": 13,
   "id": "e90cf9ac",
   "metadata": {},
   "outputs": [],
   "source": [
    "pessoa_renda_df = pessoa_renda_df.rename(columns={\n",
    "    \"Cod_setor\": \"CD_GEOCODI\"\n",
    "})"
   ]
  },
  {
   "cell_type": "code",
   "execution_count": 14,
   "id": "6f269938",
   "metadata": {},
   "outputs": [],
   "source": [
    "cep_coordinates_per_capita_income = census_code_cep_coordinates.merge(pessoa_renda_df, on=\"CD_GEOCODI\")"
   ]
  },
  {
   "cell_type": "code",
   "execution_count": 17,
   "id": "2f8a1d57",
   "metadata": {},
   "outputs": [
    {
     "data": {
      "text/html": [
       "<div>\n",
       "<style scoped>\n",
       "    .dataframe tbody tr th:only-of-type {\n",
       "        vertical-align: middle;\n",
       "    }\n",
       "\n",
       "    .dataframe tbody tr th {\n",
       "        vertical-align: top;\n",
       "    }\n",
       "\n",
       "    .dataframe thead th {\n",
       "        text-align: right;\n",
       "    }\n",
       "</style>\n",
       "<table border=\"1\" class=\"dataframe\">\n",
       "  <thead>\n",
       "    <tr style=\"text-align: right;\">\n",
       "      <th></th>\n",
       "      <th>POSTCODE</th>\n",
       "      <th>LON</th>\n",
       "      <th>LAT</th>\n",
       "      <th>CD_GEOCODI</th>\n",
       "      <th>renda_per_capita</th>\n",
       "    </tr>\n",
       "  </thead>\n",
       "  <tbody>\n",
       "    <tr>\n",
       "      <th>135261</th>\n",
       "      <td>26585-610</td>\n",
       "      <td>-43.444497</td>\n",
       "      <td>-22.805094</td>\n",
       "      <td>330285805000177</td>\n",
       "      <td>451.929603</td>\n",
       "    </tr>\n",
       "    <tr>\n",
       "      <th>102894</th>\n",
       "      <td>21540-040</td>\n",
       "      <td>-43.342976</td>\n",
       "      <td>-22.863863</td>\n",
       "      <td>330455705200244</td>\n",
       "      <td>624.132388</td>\n",
       "    </tr>\n",
       "    <tr>\n",
       "      <th>121526</th>\n",
       "      <td>25223-505</td>\n",
       "      <td>-43.258575</td>\n",
       "      <td>-22.694976</td>\n",
       "      <td>330170210000202</td>\n",
       "      <td>552.155529</td>\n",
       "    </tr>\n",
       "    <tr>\n",
       "      <th>193190</th>\n",
       "      <td>37716-102</td>\n",
       "      <td>-46.583734</td>\n",
       "      <td>-21.795178</td>\n",
       "      <td>315180005000233</td>\n",
       "      <td>3538.013559</td>\n",
       "    </tr>\n",
       "    <tr>\n",
       "      <th>184309</th>\n",
       "      <td>35702-112</td>\n",
       "      <td>-44.240988</td>\n",
       "      <td>-19.494802</td>\n",
       "      <td>316720205150009</td>\n",
       "      <td>670.161202</td>\n",
       "    </tr>\n",
       "    <tr>\n",
       "      <th>389712</th>\n",
       "      <td>88095-573</td>\n",
       "      <td>-48.603475</td>\n",
       "      <td>-27.588623</td>\n",
       "      <td>420540705000340</td>\n",
       "      <td>835.044892</td>\n",
       "    </tr>\n",
       "    <tr>\n",
       "      <th>111195</th>\n",
       "      <td>23068-300</td>\n",
       "      <td>-43.603791</td>\n",
       "      <td>-22.881477</td>\n",
       "      <td>330455705230190</td>\n",
       "      <td>330.989091</td>\n",
       "    </tr>\n",
       "    <tr>\n",
       "      <th>116606</th>\n",
       "      <td>24415-330</td>\n",
       "      <td>-43.071071</td>\n",
       "      <td>-22.839505</td>\n",
       "      <td>330490420000185</td>\n",
       "      <td>1059.356299</td>\n",
       "    </tr>\n",
       "    <tr>\n",
       "      <th>3800</th>\n",
       "      <td>01547-060</td>\n",
       "      <td>-46.621222</td>\n",
       "      <td>-23.581915</td>\n",
       "      <td>355030890000147</td>\n",
       "      <td>1761.898148</td>\n",
       "    </tr>\n",
       "    <tr>\n",
       "      <th>340134</th>\n",
       "      <td>78098-682</td>\n",
       "      <td>-55.981633</td>\n",
       "      <td>-15.650340</td>\n",
       "      <td>510340310430107</td>\n",
       "      <td>729.680605</td>\n",
       "    </tr>\n",
       "  </tbody>\n",
       "</table>\n",
       "</div>"
      ],
      "text/plain": [
       "         POSTCODE        LON        LAT       CD_GEOCODI  renda_per_capita\n",
       "135261  26585-610 -43.444497 -22.805094  330285805000177        451.929603\n",
       "102894  21540-040 -43.342976 -22.863863  330455705200244        624.132388\n",
       "121526  25223-505 -43.258575 -22.694976  330170210000202        552.155529\n",
       "193190  37716-102 -46.583734 -21.795178  315180005000233       3538.013559\n",
       "184309  35702-112 -44.240988 -19.494802  316720205150009        670.161202\n",
       "389712  88095-573 -48.603475 -27.588623  420540705000340        835.044892\n",
       "111195  23068-300 -43.603791 -22.881477  330455705230190        330.989091\n",
       "116606  24415-330 -43.071071 -22.839505  330490420000185       1059.356299\n",
       "3800    01547-060 -46.621222 -23.581915  355030890000147       1761.898148\n",
       "340134  78098-682 -55.981633 -15.650340  510340310430107        729.680605"
      ]
     },
     "execution_count": 17,
     "metadata": {},
     "output_type": "execute_result"
    }
   ],
   "source": [
    "cep_coordinates_per_capita_income.sample(10)"
   ]
  },
  {
   "cell_type": "markdown",
   "id": "b1e81805",
   "metadata": {},
   "source": [
    "# 4. Salvando o arquivo"
   ]
  },
  {
   "cell_type": "code",
   "execution_count": null,
   "id": "83a53a21",
   "metadata": {},
   "outputs": [],
   "source": [
    "cep_coordinates_per_capita_income.to_csv(\"../data/processed/cep_coordinates_per_capita_income.csv\", index=False)"
   ]
  },
  {
   "cell_type": "markdown",
   "id": "39a5ab8d",
   "metadata": {},
   "source": [
    "# 5. Exemplo de gráfico\n",
    "\n",
    "Fonte: [https://www.kaggle.com/silveiragustavo/geospatial-analysis-income-data](https://www.kaggle.com/silveiragustavo/geospatial-analysis-income-data)\n",
    "\n",
    "![geospatial_analysis](../geospatial_plot.png)"
   ]
  }
 ],
 "metadata": {
  "kernelspec": {
   "display_name": "Python 3",
   "language": "python",
   "name": "python3"
  },
  "language_info": {
   "codemirror_mode": {
    "name": "ipython",
    "version": 3
   },
   "file_extension": ".py",
   "mimetype": "text/x-python",
   "name": "python",
   "nbconvert_exporter": "python",
   "pygments_lexer": "ipython3",
   "version": "3.7.10"
  }
 },
 "nbformat": 4,
 "nbformat_minor": 5
}
