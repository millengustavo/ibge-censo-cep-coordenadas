{
 "cells": [
  {
   "cell_type": "markdown",
   "id": "297f8ce9",
   "metadata": {},
   "source": [
    "# Dados do censo 2010 do IBGE\n",
    "\n",
    "## Objetivo\n",
    "- Consolidar uma base com CEP, coordenadas geográficas e código de setor censitário"
   ]
  },
  {
   "cell_type": "code",
   "execution_count": 1,
   "id": "04475ef1",
   "metadata": {},
   "outputs": [],
   "source": [
    "import os\n",
    "import zipfile\n",
    "from ftplib import FTP\n",
    "import pandas as pd\n",
    "from tqdm import tqdm\n",
    "import geopandas as gpd\n",
    "from shapely.geometry import Point\n",
    "from geopandas.tools import sjoin"
   ]
  },
  {
   "cell_type": "markdown",
   "id": "3cbbcd6a",
   "metadata": {},
   "source": [
    "## 1. Download dos dados de fontes externas\n",
    "\n",
    "### 1.1. IBGE - Agregados por Setores Censitários"
   ]
  },
  {
   "cell_type": "code",
   "execution_count": 9,
   "id": "85a089b7",
   "metadata": {},
   "outputs": [
    {
     "data": {
      "text/plain": [
       "['AC_20171016.zip',\n",
       " 'AL_20171016.zip',\n",
       " 'AM_20171016.zip',\n",
       " 'AP_20171016.zip',\n",
       " 'BA_20171016.zip',\n",
       " 'CE_20171016.zip',\n",
       " 'DF_20171016.zip',\n",
       " 'ES_20171016.zip',\n",
       " 'GO_20171016.zip',\n",
       " 'MA_20171016.zip',\n",
       " 'MG_20171016.zip',\n",
       " 'MS_20171016.zip',\n",
       " 'MT_20171016.zip',\n",
       " 'PA_20171016.zip',\n",
       " 'PB_20171016.zip',\n",
       " 'PE_20200219.zip',\n",
       " 'PI_20171016.zip',\n",
       " 'PR_20171016.zip',\n",
       " 'RJ_20171016.zip',\n",
       " 'RN_20171016.zip',\n",
       " 'RO_20171016.zip',\n",
       " 'RR_20171016.zip',\n",
       " 'RS_20171016.zip',\n",
       " 'SC_20171016.zip',\n",
       " 'SE_20171016.zip',\n",
       " 'SP_Capital_20190823.zip',\n",
       " 'SP_Exceto_a_Capital_20190207.zip',\n",
       " 'TO_20171016.zip']"
      ]
     },
     "execution_count": 9,
     "metadata": {},
     "output_type": "execute_result"
    }
   ],
   "source": [
    "ftp = FTP(\"ftp.ibge.gov.br\")\n",
    "ftp.login()\n",
    "ftp.cwd(\"Censos/Censo_Demografico_2010/Resultados_do_Universo/Agregados_por_Setores_Censitarios/\")\n",
    "files_on_ftp_path = ftp.nlst(\".\")\n",
    "\n",
    "zip_files_to_download = [filename for filename in files_on_ftp_path if \".zip\" in filename and \"Doc\" not in filename]\n",
    "zip_files_to_download"
   ]
  },
  {
   "cell_type": "code",
   "execution_count": 27,
   "id": "079ee2fb",
   "metadata": {},
   "outputs": [],
   "source": [
    "for filename in zip_files_to_download:\n",
    "    print(\"Downloading {}...\".format(filename))\n",
    "    with open(f\"../data/agregados/{filename}\", \"wb\") as fp:\n",
    "        ftp.retrbinary(\"RETR {}\".format(filename), fp.write)"
   ]
  },
  {
   "cell_type": "markdown",
   "id": "429d3234",
   "metadata": {},
   "source": [
    "### 1.2. IBGE - SHP files dos setores censitários"
   ]
  },
  {
   "cell_type": "code",
   "execution_count": 22,
   "id": "4bbe304c",
   "metadata": {},
   "outputs": [],
   "source": [
    "ftp = FTP(\"geoftp.ibge.gov.br\")\n",
    "ftp.login()\n",
    "ftp.cwd(\"organizacao_do_territorio/malhas_territoriais/malhas_de_setores_censitarios__divisoes_intramunicipais/censo_2010/setores_censitarios_shp/\")\n",
    "folders_on_ftp_path = ftp.nlst(\".\")\n",
    "\n",
    "uf_folders = [filename for filename in folders_on_ftp_path if len(filename) == 2]"
   ]
  },
  {
   "cell_type": "code",
   "execution_count": 23,
   "id": "38692685",
   "metadata": {
    "tags": []
   },
   "outputs": [
    {
     "data": {
      "text/plain": [
       "['ac',\n",
       " 'al',\n",
       " 'am',\n",
       " 'ap',\n",
       " 'ba',\n",
       " 'ce',\n",
       " 'df',\n",
       " 'es',\n",
       " 'go',\n",
       " 'ma',\n",
       " 'mg',\n",
       " 'ms',\n",
       " 'mt',\n",
       " 'pa',\n",
       " 'pb',\n",
       " 'pe',\n",
       " 'pi',\n",
       " 'pr',\n",
       " 'rj',\n",
       " 'rn',\n",
       " 'ro',\n",
       " 'rr',\n",
       " 'rs',\n",
       " 'sc',\n",
       " 'se',\n",
       " 'sp',\n",
       " 'to']"
      ]
     },
     "execution_count": 23,
     "metadata": {},
     "output_type": "execute_result"
    }
   ],
   "source": [
    "uf_folders"
   ]
  },
  {
   "cell_type": "code",
   "execution_count": 28,
   "id": "b5a10bce",
   "metadata": {},
   "outputs": [
    {
     "name": "stdout",
     "output_type": "stream",
     "text": [
      "Downloading ac_setores_censitarios.zip ...\n",
      "Downloading al_setores_censitarios.zip ...\n",
      "Downloading am_setores_censitarios.zip ...\n",
      "Downloading ap_setores_censitarios.zip ...\n",
      "Downloading ba_setores_censitarios.zip ...\n",
      "Downloading ce_setores_censitarios.zip ...\n",
      "Downloading df_setores_censitarios.zip ...\n",
      "Downloading es_setores_censitarios.zip ...\n",
      "Downloading go_setores _censitarios.zip ...\n",
      "Downloading ma_setores_censitarios.zip ...\n",
      "Downloading mg_setores_censitarios.zip ...\n",
      "Downloading ms_setores_censitarios.zip ...\n",
      "Downloading mt_setores_censitarios.zip ...\n",
      "Downloading pa_setores_censitarios.zip ...\n",
      "Downloading pb_setores_censitarios.zip ...\n",
      "Downloading pe_setores_censitarios.zip ...\n",
      "Downloading pi_setores_censitarios.zip ...\n",
      "Downloading pr_setores_censitarios.zip ...\n",
      "Downloading rj_setores_censitarios.zip ...\n",
      "Downloading rn_setores_censitarios.zip ...\n",
      "Downloading ro_setores_censitarios.zip ...\n",
      "Downloading rr_setores_censitarios.zip ...\n",
      "Downloading rs_setores_censitarios.zip ...\n",
      "Downloading sc_setores_censitarios.zip ...\n",
      "Downloading se_setores_censitarios.zip ...\n",
      "Downloading sp_setores_censitarios.zip ...\n",
      "Downloading to_setores_censitarios.zip ...\n"
     ]
    }
   ],
   "source": [
    "for uf in uf_folders:\n",
    "    ftp = FTP(\"geoftp.ibge.gov.br\")\n",
    "    ftp.login()\n",
    "    ftp.cwd(f\"organizacao_do_territorio/malhas_territoriais/malhas_de_setores_censitarios__divisoes_intramunicipais/censo_2010/setores_censitarios_shp/{uf}/\")\n",
    "    # the following is needed because of a typo on GO file\n",
    "    files_on_ftp_path = ftp.nlst(\".\")\n",
    "    file_to_download = [filename for filename in files_on_ftp_path if \"setores\" in filename][0]\n",
    "    print(f\"Downloading {file_to_download} ...\")\n",
    "    with open(f\"../data/setores_censitarios/{uf}_setores_censitarios.zip\", \"wb\") as fp:\n",
    "        ftp.retrbinary(f\"RETR {file_to_download}\", fp.write)"
   ]
  },
  {
   "cell_type": "markdown",
   "id": "c5ce4623",
   "metadata": {},
   "source": [
    "### 1.3. Open Addresses South America - Brazil\n",
    "\n",
    "Source: [https://www.kaggle.com/openaddresses/openaddresses-south-america?select=brazil.csv](https://www.kaggle.com/openaddresses/openaddresses-south-america?select=brazil.csv)"
   ]
  },
  {
   "cell_type": "code",
   "execution_count": 17,
   "id": "d34682d5",
   "metadata": {},
   "outputs": [
    {
     "data": {
      "text/html": [
       "<div>\n",
       "<style scoped>\n",
       "    .dataframe tbody tr th:only-of-type {\n",
       "        vertical-align: middle;\n",
       "    }\n",
       "\n",
       "    .dataframe tbody tr th {\n",
       "        vertical-align: top;\n",
       "    }\n",
       "\n",
       "    .dataframe thead th {\n",
       "        text-align: right;\n",
       "    }\n",
       "</style>\n",
       "<table border=\"1\" class=\"dataframe\">\n",
       "  <thead>\n",
       "    <tr style=\"text-align: right;\">\n",
       "      <th></th>\n",
       "      <th>LON</th>\n",
       "      <th>LAT</th>\n",
       "      <th>POSTCODE</th>\n",
       "    </tr>\n",
       "  </thead>\n",
       "  <tbody>\n",
       "    <tr>\n",
       "      <th>0</th>\n",
       "      <td>-67.0496</td>\n",
       "      <td>-10.071417</td>\n",
       "      <td>69945-000</td>\n",
       "    </tr>\n",
       "    <tr>\n",
       "      <th>1</th>\n",
       "      <td>-67.0496</td>\n",
       "      <td>-10.071417</td>\n",
       "      <td>69945-000</td>\n",
       "    </tr>\n",
       "    <tr>\n",
       "      <th>2</th>\n",
       "      <td>-67.0496</td>\n",
       "      <td>-10.071417</td>\n",
       "      <td>69945-000</td>\n",
       "    </tr>\n",
       "    <tr>\n",
       "      <th>3</th>\n",
       "      <td>-67.0496</td>\n",
       "      <td>-10.071417</td>\n",
       "      <td>69945-000</td>\n",
       "    </tr>\n",
       "    <tr>\n",
       "      <th>4</th>\n",
       "      <td>-67.0496</td>\n",
       "      <td>-10.071417</td>\n",
       "      <td>69945-000</td>\n",
       "    </tr>\n",
       "  </tbody>\n",
       "</table>\n",
       "</div>"
      ],
      "text/plain": [
       "       LON        LAT   POSTCODE\n",
       "0 -67.0496 -10.071417  69945-000\n",
       "1 -67.0496 -10.071417  69945-000\n",
       "2 -67.0496 -10.071417  69945-000\n",
       "3 -67.0496 -10.071417  69945-000\n",
       "4 -67.0496 -10.071417  69945-000"
      ]
     },
     "execution_count": 17,
     "metadata": {},
     "output_type": "execute_result"
    }
   ],
   "source": [
    "cep_coords = pd.read_csv(\"../data/open_addresses_south_america/brazil.csv\", usecols=[\"POSTCODE\", \"LAT\", \"LON\"])\n",
    "cep_coords.head()"
   ]
  },
  {
   "cell_type": "markdown",
   "id": "f54f3645",
   "metadata": {},
   "source": [
    "## 2. Extraindo os arquivos *.zip baixados dos FTPs do IBGE\n",
    "\n",
    "### 2.1. Agregados"
   ]
  },
  {
   "cell_type": "code",
   "execution_count": 6,
   "id": "1fb5d5df",
   "metadata": {},
   "outputs": [
    {
     "data": {
      "text/plain": [
       "['../data/agregados/AM_20171016.zip',\n",
       " '../data/agregados/RN_20171016.zip',\n",
       " '../data/agregados/PR_20171016.zip']"
      ]
     },
     "execution_count": 6,
     "metadata": {},
     "output_type": "execute_result"
    }
   ],
   "source": [
    "agregados_files = os.listdir(\"../data/agregados/\")\n",
    "agregados_path_files = [os.path.join(\"../data/agregados/\", file) for file in agregados_files]\n",
    "agregados_path_files[:3]"
   ]
  },
  {
   "cell_type": "code",
   "execution_count": 9,
   "id": "04d43971",
   "metadata": {},
   "outputs": [
    {
     "name": "stderr",
     "output_type": "stream",
     "text": [
      "100%|██████████| 28/28 [01:04<00:00,  2.30s/it]\n"
     ]
    }
   ],
   "source": [
    "directory_to_extract_to = \"../data/agregados/extracted/\"\n",
    "\n",
    "for path_to_zip_file in tqdm(agregados_path_files):\n",
    "    with zipfile.ZipFile(path_to_zip_file, 'r') as zip_ref:\n",
    "        zip_ref.extractall(directory_to_extract_to)"
   ]
  },
  {
   "cell_type": "markdown",
   "id": "6c5c171e",
   "metadata": {},
   "source": [
    "### 2.2. Setores Censitários"
   ]
  },
  {
   "cell_type": "code",
   "execution_count": 16,
   "id": "0e8d12aa",
   "metadata": {},
   "outputs": [
    {
     "data": {
      "text/plain": [
       "['../data/setores_censitarios/am_setores_censitarios.zip',\n",
       " '../data/setores_censitarios/ms_setores_censitarios.zip',\n",
       " '../data/setores_censitarios/es_setores_censitarios.zip']"
      ]
     },
     "execution_count": 16,
     "metadata": {},
     "output_type": "execute_result"
    }
   ],
   "source": [
    "sc_files = [file for file in os.listdir(\"../data/setores_censitarios/\") if \".zip\" in file]\n",
    "sc_path_files = [os.path.join(\"../data/setores_censitarios/\", file) for file in sc_files]\n",
    "sc_path_files[:3]"
   ]
  },
  {
   "cell_type": "code",
   "execution_count": 17,
   "id": "0f58669f",
   "metadata": {},
   "outputs": [
    {
     "name": "stderr",
     "output_type": "stream",
     "text": [
      "100%|██████████| 27/27 [00:05<00:00,  4.90it/s]\n"
     ]
    }
   ],
   "source": [
    "directory_to_extract_to = \"../data/setores_censitarios/extracted/\"\n",
    "\n",
    "for path_to_zip_file in tqdm(sc_path_files):\n",
    "    with zipfile.ZipFile(path_to_zip_file, 'r') as zip_ref:\n",
    "        zip_ref.extractall(directory_to_extract_to)"
   ]
  },
  {
   "cell_type": "markdown",
   "id": "22a8119d",
   "metadata": {},
   "source": [
    "## 3. Pré-processamento\n",
    "\n",
    "### 3.1. Agrupando CEPs iguais\n",
    "\n",
    "Da base Open Addresses do Brasil, temos diversas entradas de coordenadas geográficas para um mesmo CEP. \n",
    "\n",
    "Vamos utilizar a mediana como coordenada aproximada de um CEP."
   ]
  },
  {
   "cell_type": "code",
   "execution_count": 21,
   "id": "f73beacd",
   "metadata": {},
   "outputs": [],
   "source": [
    "cep_coords = cep_coords.groupby(by=\"POSTCODE\").median().reset_index()"
   ]
  },
  {
   "cell_type": "code",
   "execution_count": 23,
   "id": "36ff38ef",
   "metadata": {},
   "outputs": [
    {
     "data": {
      "text/plain": [
       "(429972, 3)"
      ]
     },
     "execution_count": 23,
     "metadata": {},
     "output_type": "execute_result"
    }
   ],
   "source": [
    "cep_coords.shape"
   ]
  },
  {
   "cell_type": "code",
   "execution_count": 25,
   "id": "f3f07c13",
   "metadata": {},
   "outputs": [
    {
     "data": {
      "text/html": [
       "<div>\n",
       "<style scoped>\n",
       "    .dataframe tbody tr th:only-of-type {\n",
       "        vertical-align: middle;\n",
       "    }\n",
       "\n",
       "    .dataframe tbody tr th {\n",
       "        vertical-align: top;\n",
       "    }\n",
       "\n",
       "    .dataframe thead th {\n",
       "        text-align: right;\n",
       "    }\n",
       "</style>\n",
       "<table border=\"1\" class=\"dataframe\">\n",
       "  <thead>\n",
       "    <tr style=\"text-align: right;\">\n",
       "      <th></th>\n",
       "      <th>POSTCODE</th>\n",
       "      <th>LON</th>\n",
       "      <th>LAT</th>\n",
       "    </tr>\n",
       "  </thead>\n",
       "  <tbody>\n",
       "    <tr>\n",
       "      <th>0</th>\n",
       "      <td>00000-000</td>\n",
       "      <td>-46.663830</td>\n",
       "      <td>-22.257613</td>\n",
       "    </tr>\n",
       "    <tr>\n",
       "      <th>1</th>\n",
       "      <td>00000-001</td>\n",
       "      <td>-67.838738</td>\n",
       "      <td>-9.921660</td>\n",
       "    </tr>\n",
       "    <tr>\n",
       "      <th>2</th>\n",
       "      <td>00000-002</td>\n",
       "      <td>-67.880508</td>\n",
       "      <td>-9.882072</td>\n",
       "    </tr>\n",
       "    <tr>\n",
       "      <th>3</th>\n",
       "      <td>00000-003</td>\n",
       "      <td>-46.514443</td>\n",
       "      <td>-21.820570</td>\n",
       "    </tr>\n",
       "    <tr>\n",
       "      <th>4</th>\n",
       "      <td>00000-004</td>\n",
       "      <td>-67.893353</td>\n",
       "      <td>-9.882038</td>\n",
       "    </tr>\n",
       "  </tbody>\n",
       "</table>\n",
       "</div>"
      ],
      "text/plain": [
       "    POSTCODE        LON        LAT\n",
       "0  00000-000 -46.663830 -22.257613\n",
       "1  00000-001 -67.838738  -9.921660\n",
       "2  00000-002 -67.880508  -9.882072\n",
       "3  00000-003 -46.514443 -21.820570\n",
       "4  00000-004 -67.893353  -9.882038"
      ]
     },
     "execution_count": 25,
     "metadata": {},
     "output_type": "execute_result"
    }
   ],
   "source": [
    "cep_coords.head()"
   ]
  },
  {
   "cell_type": "markdown",
   "id": "69ed92a2",
   "metadata": {},
   "source": [
    "### 3.2. Transformando de DataFrame para GeoDataFrame\n",
    "\n",
    "Transformação necessária para que possamos atribuir de forma eficiente as coordenadas de cada CEP nos polígonos presentes nos .SHP files"
   ]
  },
  {
   "cell_type": "code",
   "execution_count": 58,
   "id": "f947d5b1",
   "metadata": {},
   "outputs": [],
   "source": [
    "cep_coords_gdf = gpd.GeoDataFrame(\n",
    "    cep_coords, geometry=gpd.points_from_xy(cep_coords[\"LON\"], cep_coords[\"LAT\"]))"
   ]
  },
  {
   "cell_type": "code",
   "execution_count": 59,
   "id": "19f99459",
   "metadata": {},
   "outputs": [
    {
     "data": {
      "text/html": [
       "<div>\n",
       "<style scoped>\n",
       "    .dataframe tbody tr th:only-of-type {\n",
       "        vertical-align: middle;\n",
       "    }\n",
       "\n",
       "    .dataframe tbody tr th {\n",
       "        vertical-align: top;\n",
       "    }\n",
       "\n",
       "    .dataframe thead th {\n",
       "        text-align: right;\n",
       "    }\n",
       "</style>\n",
       "<table border=\"1\" class=\"dataframe\">\n",
       "  <thead>\n",
       "    <tr style=\"text-align: right;\">\n",
       "      <th></th>\n",
       "      <th>POSTCODE</th>\n",
       "      <th>LON</th>\n",
       "      <th>LAT</th>\n",
       "      <th>geometry</th>\n",
       "    </tr>\n",
       "  </thead>\n",
       "  <tbody>\n",
       "    <tr>\n",
       "      <th>0</th>\n",
       "      <td>00000-000</td>\n",
       "      <td>-46.663830</td>\n",
       "      <td>-22.257613</td>\n",
       "      <td>POINT (-46.66383 -22.25761)</td>\n",
       "    </tr>\n",
       "    <tr>\n",
       "      <th>1</th>\n",
       "      <td>00000-001</td>\n",
       "      <td>-67.838738</td>\n",
       "      <td>-9.921660</td>\n",
       "      <td>POINT (-67.83874 -9.92166)</td>\n",
       "    </tr>\n",
       "    <tr>\n",
       "      <th>2</th>\n",
       "      <td>00000-002</td>\n",
       "      <td>-67.880508</td>\n",
       "      <td>-9.882072</td>\n",
       "      <td>POINT (-67.88051 -9.88207)</td>\n",
       "    </tr>\n",
       "    <tr>\n",
       "      <th>3</th>\n",
       "      <td>00000-003</td>\n",
       "      <td>-46.514443</td>\n",
       "      <td>-21.820570</td>\n",
       "      <td>POINT (-46.51444 -21.82057)</td>\n",
       "    </tr>\n",
       "    <tr>\n",
       "      <th>4</th>\n",
       "      <td>00000-004</td>\n",
       "      <td>-67.893353</td>\n",
       "      <td>-9.882038</td>\n",
       "      <td>POINT (-67.89335 -9.88204)</td>\n",
       "    </tr>\n",
       "    <tr>\n",
       "      <th>...</th>\n",
       "      <td>...</td>\n",
       "      <td>...</td>\n",
       "      <td>...</td>\n",
       "      <td>...</td>\n",
       "    </tr>\n",
       "    <tr>\n",
       "      <th>429967</th>\n",
       "      <td>99990-999</td>\n",
       "      <td>-48.562378</td>\n",
       "      <td>-25.574579</td>\n",
       "      <td>POINT (-48.56238 -25.57458)</td>\n",
       "    </tr>\n",
       "    <tr>\n",
       "      <th>429968</th>\n",
       "      <td>99999-990</td>\n",
       "      <td>-48.563207</td>\n",
       "      <td>-25.567153</td>\n",
       "      <td>POINT (-48.56321 -25.56715)</td>\n",
       "    </tr>\n",
       "    <tr>\n",
       "      <th>429969</th>\n",
       "      <td>99999-998</td>\n",
       "      <td>-41.092554</td>\n",
       "      <td>-20.853443</td>\n",
       "      <td>POINT (-41.09255 -20.85344)</td>\n",
       "    </tr>\n",
       "    <tr>\n",
       "      <th>429970</th>\n",
       "      <td>99999-999</td>\n",
       "      <td>-43.998336</td>\n",
       "      <td>-22.912780</td>\n",
       "      <td>POINT (-43.99834 -22.91278)</td>\n",
       "    </tr>\n",
       "    <tr>\n",
       "      <th>429971</th>\n",
       "      <td>Sem CEP</td>\n",
       "      <td>-47.758636</td>\n",
       "      <td>-15.644745</td>\n",
       "      <td>POINT (-47.75864 -15.64475)</td>\n",
       "    </tr>\n",
       "  </tbody>\n",
       "</table>\n",
       "<p>429972 rows × 4 columns</p>\n",
       "</div>"
      ],
      "text/plain": [
       "         POSTCODE        LON        LAT                     geometry\n",
       "0       00000-000 -46.663830 -22.257613  POINT (-46.66383 -22.25761)\n",
       "1       00000-001 -67.838738  -9.921660   POINT (-67.83874 -9.92166)\n",
       "2       00000-002 -67.880508  -9.882072   POINT (-67.88051 -9.88207)\n",
       "3       00000-003 -46.514443 -21.820570  POINT (-46.51444 -21.82057)\n",
       "4       00000-004 -67.893353  -9.882038   POINT (-67.89335 -9.88204)\n",
       "...           ...        ...        ...                          ...\n",
       "429967  99990-999 -48.562378 -25.574579  POINT (-48.56238 -25.57458)\n",
       "429968  99999-990 -48.563207 -25.567153  POINT (-48.56321 -25.56715)\n",
       "429969  99999-998 -41.092554 -20.853443  POINT (-41.09255 -20.85344)\n",
       "429970  99999-999 -43.998336 -22.912780  POINT (-43.99834 -22.91278)\n",
       "429971    Sem CEP -47.758636 -15.644745  POINT (-47.75864 -15.64475)\n",
       "\n",
       "[429972 rows x 4 columns]"
      ]
     },
     "execution_count": 59,
     "metadata": {},
     "output_type": "execute_result"
    }
   ],
   "source": [
    "cep_coords_gdf"
   ]
  },
  {
   "cell_type": "markdown",
   "id": "1d4ffc95",
   "metadata": {},
   "source": [
    "### 3.3. Concatenando os arquivos .SHP de todos os estados"
   ]
  },
  {
   "cell_type": "code",
   "execution_count": 65,
   "id": "1169aebb",
   "metadata": {},
   "outputs": [
    {
     "data": {
      "text/plain": [
       "['24SEE250GC_SIR.shp', '32SEE250GC_SIR.shp', '16SEE250GC_SIR.shp']"
      ]
     },
     "execution_count": 65,
     "metadata": {},
     "output_type": "execute_result"
    }
   ],
   "source": [
    "shp_files = [file for file in os.listdir('../data/setores_censitarios/extracted/') if \".shp\" in file]\n",
    "shp_files[:3]"
   ]
  },
  {
   "cell_type": "code",
   "execution_count": 66,
   "id": "6c2175dc",
   "metadata": {},
   "outputs": [],
   "source": [
    "gdfs = [gpd.read_file(f'../data/setores_censitarios/extracted/{filename}') for filename in shp_files]\n",
    "census_sector_gpd = pd.concat(gdfs)\n",
    "del gdfs"
   ]
  },
  {
   "cell_type": "code",
   "execution_count": 67,
   "id": "83be6055",
   "metadata": {},
   "outputs": [
    {
     "data": {
      "text/html": [
       "<div>\n",
       "<style scoped>\n",
       "    .dataframe tbody tr th:only-of-type {\n",
       "        vertical-align: middle;\n",
       "    }\n",
       "\n",
       "    .dataframe tbody tr th {\n",
       "        vertical-align: top;\n",
       "    }\n",
       "\n",
       "    .dataframe thead th {\n",
       "        text-align: right;\n",
       "    }\n",
       "</style>\n",
       "<table border=\"1\" class=\"dataframe\">\n",
       "  <thead>\n",
       "    <tr style=\"text-align: right;\">\n",
       "      <th></th>\n",
       "      <th>CD_GEOCODI</th>\n",
       "      <th>geometry</th>\n",
       "    </tr>\n",
       "  </thead>\n",
       "  <tbody>\n",
       "    <tr>\n",
       "      <th>0</th>\n",
       "      <td>240020805000006</td>\n",
       "      <td>POLYGON ((-36.90843 -5.58145, -36.90834 -5.582...</td>\n",
       "    </tr>\n",
       "    <tr>\n",
       "      <th>1</th>\n",
       "      <td>240020805000007</td>\n",
       "      <td>POLYGON ((-36.90586 -5.58354, -36.90556 -5.585...</td>\n",
       "    </tr>\n",
       "    <tr>\n",
       "      <th>2</th>\n",
       "      <td>240020805000008</td>\n",
       "      <td>POLYGON ((-36.90780 -5.58389, -36.90739 -5.586...</td>\n",
       "    </tr>\n",
       "    <tr>\n",
       "      <th>3</th>\n",
       "      <td>240020805000009</td>\n",
       "      <td>POLYGON ((-36.90939 -5.58418, -36.90933 -5.585...</td>\n",
       "    </tr>\n",
       "    <tr>\n",
       "      <th>4</th>\n",
       "      <td>240020805000010</td>\n",
       "      <td>POLYGON ((-36.91135 -5.58195, -36.91135 -5.581...</td>\n",
       "    </tr>\n",
       "  </tbody>\n",
       "</table>\n",
       "</div>"
      ],
      "text/plain": [
       "        CD_GEOCODI                                           geometry\n",
       "0  240020805000006  POLYGON ((-36.90843 -5.58145, -36.90834 -5.582...\n",
       "1  240020805000007  POLYGON ((-36.90586 -5.58354, -36.90556 -5.585...\n",
       "2  240020805000008  POLYGON ((-36.90780 -5.58389, -36.90739 -5.586...\n",
       "3  240020805000009  POLYGON ((-36.90939 -5.58418, -36.90933 -5.585...\n",
       "4  240020805000010  POLYGON ((-36.91135 -5.58195, -36.91135 -5.581..."
      ]
     },
     "execution_count": 67,
     "metadata": {},
     "output_type": "execute_result"
    }
   ],
   "source": [
    "census_sector_gpd = census_sector_gpd[[\"CD_GEOCODI\", \"geometry\"]]\n",
    "census_sector_gpd.head()"
   ]
  },
  {
   "cell_type": "markdown",
   "id": "935b71e2",
   "metadata": {},
   "source": [
    "### 3.4. Spatial Join"
   ]
  },
  {
   "cell_type": "code",
   "execution_count": 71,
   "id": "c75aef9d",
   "metadata": {},
   "outputs": [
    {
     "name": "stderr",
     "output_type": "stream",
     "text": [
      "/opt/miniconda3/envs/ibge_env/lib/python3.7/site-packages/ipykernel_launcher.py:1: UserWarning: CRS mismatch between the CRS of left geometries and the CRS of right geometries.\n",
      "Use `to_crs()` to reproject one of the input geometries to match the CRS of the other.\n",
      "\n",
      "Left CRS: None\n",
      "Right CRS: EPSG:4674\n",
      "\n",
      "  \"\"\"Entry point for launching an IPython kernel.\n"
     ]
    }
   ],
   "source": [
    "pointInPolys = sjoin(cep_coords_gdf, census_sector_gpd, how='left')"
   ]
  },
  {
   "cell_type": "code",
   "execution_count": 72,
   "id": "26cc83b8",
   "metadata": {},
   "outputs": [
    {
     "data": {
      "text/plain": [
       "POSTCODE        0\n",
       "LON             0\n",
       "LAT             0\n",
       "geometry        0\n",
       "index_right    15\n",
       "CD_GEOCODI     15\n",
       "dtype: int64"
      ]
     },
     "execution_count": 72,
     "metadata": {},
     "output_type": "execute_result"
    }
   ],
   "source": [
    "pointInPolys.isnull().sum()"
   ]
  },
  {
   "cell_type": "code",
   "execution_count": 73,
   "id": "f2b036bc",
   "metadata": {},
   "outputs": [
    {
     "data": {
      "text/html": [
       "<div>\n",
       "<style scoped>\n",
       "    .dataframe tbody tr th:only-of-type {\n",
       "        vertical-align: middle;\n",
       "    }\n",
       "\n",
       "    .dataframe tbody tr th {\n",
       "        vertical-align: top;\n",
       "    }\n",
       "\n",
       "    .dataframe thead th {\n",
       "        text-align: right;\n",
       "    }\n",
       "</style>\n",
       "<table border=\"1\" class=\"dataframe\">\n",
       "  <thead>\n",
       "    <tr style=\"text-align: right;\">\n",
       "      <th></th>\n",
       "      <th>POSTCODE</th>\n",
       "      <th>LON</th>\n",
       "      <th>LAT</th>\n",
       "      <th>geometry</th>\n",
       "      <th>index_right</th>\n",
       "      <th>CD_GEOCODI</th>\n",
       "    </tr>\n",
       "  </thead>\n",
       "  <tbody>\n",
       "    <tr>\n",
       "      <th>0</th>\n",
       "      <td>00000-000</td>\n",
       "      <td>-46.663830</td>\n",
       "      <td>-22.257613</td>\n",
       "      <td>POINT (-46.66383 -22.25761)</td>\n",
       "      <td>16996.0</td>\n",
       "      <td>313490505000032</td>\n",
       "    </tr>\n",
       "    <tr>\n",
       "      <th>1</th>\n",
       "      <td>00000-001</td>\n",
       "      <td>-67.838738</td>\n",
       "      <td>-9.921660</td>\n",
       "      <td>POINT (-67.83874 -9.92166)</td>\n",
       "      <td>688.0</td>\n",
       "      <td>120040105000325</td>\n",
       "    </tr>\n",
       "    <tr>\n",
       "      <th>2</th>\n",
       "      <td>00000-002</td>\n",
       "      <td>-67.880508</td>\n",
       "      <td>-9.882072</td>\n",
       "      <td>POINT (-67.88051 -9.88207)</td>\n",
       "      <td>688.0</td>\n",
       "      <td>120040105000325</td>\n",
       "    </tr>\n",
       "    <tr>\n",
       "      <th>3</th>\n",
       "      <td>00000-003</td>\n",
       "      <td>-46.514443</td>\n",
       "      <td>-21.820570</td>\n",
       "      <td>POINT (-46.51444 -21.82057)</td>\n",
       "      <td>24568.0</td>\n",
       "      <td>315180005000240</td>\n",
       "    </tr>\n",
       "    <tr>\n",
       "      <th>4</th>\n",
       "      <td>00000-004</td>\n",
       "      <td>-67.893353</td>\n",
       "      <td>-9.882038</td>\n",
       "      <td>POINT (-67.89335 -9.88204)</td>\n",
       "      <td>688.0</td>\n",
       "      <td>120040105000325</td>\n",
       "    </tr>\n",
       "    <tr>\n",
       "      <th>...</th>\n",
       "      <td>...</td>\n",
       "      <td>...</td>\n",
       "      <td>...</td>\n",
       "      <td>...</td>\n",
       "      <td>...</td>\n",
       "      <td>...</td>\n",
       "    </tr>\n",
       "    <tr>\n",
       "      <th>429967</th>\n",
       "      <td>99990-999</td>\n",
       "      <td>-48.562378</td>\n",
       "      <td>-25.574579</td>\n",
       "      <td>POINT (-48.56238 -25.57458)</td>\n",
       "      <td>12827.0</td>\n",
       "      <td>411820405000166</td>\n",
       "    </tr>\n",
       "    <tr>\n",
       "      <th>429968</th>\n",
       "      <td>99999-990</td>\n",
       "      <td>-48.563207</td>\n",
       "      <td>-25.567153</td>\n",
       "      <td>POINT (-48.56321 -25.56715)</td>\n",
       "      <td>12766.0</td>\n",
       "      <td>411820405000105</td>\n",
       "    </tr>\n",
       "    <tr>\n",
       "      <th>429969</th>\n",
       "      <td>99999-998</td>\n",
       "      <td>-41.092554</td>\n",
       "      <td>-20.853443</td>\n",
       "      <td>POINT (-41.09255 -20.85344)</td>\n",
       "      <td>953.0</td>\n",
       "      <td>320120905000204</td>\n",
       "    </tr>\n",
       "    <tr>\n",
       "      <th>429970</th>\n",
       "      <td>99999-999</td>\n",
       "      <td>-43.998336</td>\n",
       "      <td>-22.912780</td>\n",
       "      <td>POINT (-43.99834 -22.91278)</td>\n",
       "      <td>7481.0</td>\n",
       "      <td>330260120000035</td>\n",
       "    </tr>\n",
       "    <tr>\n",
       "      <th>429971</th>\n",
       "      <td>Sem CEP</td>\n",
       "      <td>-47.758636</td>\n",
       "      <td>-15.644745</td>\n",
       "      <td>POINT (-47.75864 -15.64475)</td>\n",
       "      <td>1925.0</td>\n",
       "      <td>530010805100314</td>\n",
       "    </tr>\n",
       "  </tbody>\n",
       "</table>\n",
       "<p>429994 rows × 6 columns</p>\n",
       "</div>"
      ],
      "text/plain": [
       "         POSTCODE        LON        LAT                     geometry  \\\n",
       "0       00000-000 -46.663830 -22.257613  POINT (-46.66383 -22.25761)   \n",
       "1       00000-001 -67.838738  -9.921660   POINT (-67.83874 -9.92166)   \n",
       "2       00000-002 -67.880508  -9.882072   POINT (-67.88051 -9.88207)   \n",
       "3       00000-003 -46.514443 -21.820570  POINT (-46.51444 -21.82057)   \n",
       "4       00000-004 -67.893353  -9.882038   POINT (-67.89335 -9.88204)   \n",
       "...           ...        ...        ...                          ...   \n",
       "429967  99990-999 -48.562378 -25.574579  POINT (-48.56238 -25.57458)   \n",
       "429968  99999-990 -48.563207 -25.567153  POINT (-48.56321 -25.56715)   \n",
       "429969  99999-998 -41.092554 -20.853443  POINT (-41.09255 -20.85344)   \n",
       "429970  99999-999 -43.998336 -22.912780  POINT (-43.99834 -22.91278)   \n",
       "429971    Sem CEP -47.758636 -15.644745  POINT (-47.75864 -15.64475)   \n",
       "\n",
       "        index_right       CD_GEOCODI  \n",
       "0           16996.0  313490505000032  \n",
       "1             688.0  120040105000325  \n",
       "2             688.0  120040105000325  \n",
       "3           24568.0  315180005000240  \n",
       "4             688.0  120040105000325  \n",
       "...             ...              ...  \n",
       "429967      12827.0  411820405000166  \n",
       "429968      12766.0  411820405000105  \n",
       "429969        953.0  320120905000204  \n",
       "429970       7481.0  330260120000035  \n",
       "429971       1925.0  530010805100314  \n",
       "\n",
       "[429994 rows x 6 columns]"
      ]
     },
     "execution_count": 73,
     "metadata": {},
     "output_type": "execute_result"
    }
   ],
   "source": [
    "pointInPolys.dropna()"
   ]
  },
  {
   "cell_type": "code",
   "execution_count": 74,
   "id": "bfec1c6b",
   "metadata": {},
   "outputs": [],
   "source": [
    "final_df = pointInPolys.drop(columns=[\"geometry\", \"index_right\"])"
   ]
  },
  {
   "cell_type": "code",
   "execution_count": 77,
   "id": "0e8616d3",
   "metadata": {},
   "outputs": [],
   "source": [
    "final_df = pd.DataFrame(final_df)"
   ]
  },
  {
   "cell_type": "code",
   "execution_count": 79,
   "id": "54c68155",
   "metadata": {},
   "outputs": [
    {
     "data": {
      "text/plain": [
       "POSTCODE       0\n",
       "LON            0\n",
       "LAT            0\n",
       "CD_GEOCODI    15\n",
       "dtype: int64"
      ]
     },
     "execution_count": 79,
     "metadata": {},
     "output_type": "execute_result"
    }
   ],
   "source": [
    "final_df.isnull().sum()"
   ]
  },
  {
   "cell_type": "code",
   "execution_count": 80,
   "id": "c79ffede",
   "metadata": {},
   "outputs": [],
   "source": [
    "final_df = final_df.dropna()"
   ]
  },
  {
   "cell_type": "code",
   "execution_count": 83,
   "id": "11748b05",
   "metadata": {},
   "outputs": [
    {
     "name": "stderr",
     "output_type": "stream",
     "text": [
      "/opt/miniconda3/envs/ibge_env/lib/python3.7/site-packages/ipykernel_launcher.py:1: SettingWithCopyWarning: \n",
      "A value is trying to be set on a copy of a slice from a DataFrame.\n",
      "Try using .loc[row_indexer,col_indexer] = value instead\n",
      "\n",
      "See the caveats in the documentation: https://pandas.pydata.org/pandas-docs/stable/user_guide/indexing.html#returning-a-view-versus-a-copy\n",
      "  \"\"\"Entry point for launching an IPython kernel.\n"
     ]
    }
   ],
   "source": [
    "final_df[\"CD_GEOCODI\"] = final_df[\"CD_GEOCODI\"].astype(int)"
   ]
  },
  {
   "cell_type": "code",
   "execution_count": 84,
   "id": "d849b79a",
   "metadata": {},
   "outputs": [
    {
     "name": "stdout",
     "output_type": "stream",
     "text": [
      "<class 'pandas.core.frame.DataFrame'>\n",
      "Int64Index: 429994 entries, 0 to 429971\n",
      "Data columns (total 4 columns):\n",
      " #   Column      Non-Null Count   Dtype  \n",
      "---  ------      --------------   -----  \n",
      " 0   POSTCODE    429994 non-null  object \n",
      " 1   LON         429994 non-null  float64\n",
      " 2   LAT         429994 non-null  float64\n",
      " 3   CD_GEOCODI  429994 non-null  int64  \n",
      "dtypes: float64(2), int64(1), object(1)\n",
      "memory usage: 16.4+ MB\n"
     ]
    }
   ],
   "source": [
    "final_df.info()"
   ]
  },
  {
   "cell_type": "markdown",
   "id": "88778045",
   "metadata": {},
   "source": [
    "### 3.5. Salvando a base CEP, LON, LAT, CD_GEOCODI"
   ]
  },
  {
   "cell_type": "code",
   "execution_count": 87,
   "id": "20c0d76f",
   "metadata": {},
   "outputs": [
    {
     "data": {
      "text/html": [
       "<div>\n",
       "<style scoped>\n",
       "    .dataframe tbody tr th:only-of-type {\n",
       "        vertical-align: middle;\n",
       "    }\n",
       "\n",
       "    .dataframe tbody tr th {\n",
       "        vertical-align: top;\n",
       "    }\n",
       "\n",
       "    .dataframe thead th {\n",
       "        text-align: right;\n",
       "    }\n",
       "</style>\n",
       "<table border=\"1\" class=\"dataframe\">\n",
       "  <thead>\n",
       "    <tr style=\"text-align: right;\">\n",
       "      <th></th>\n",
       "      <th>POSTCODE</th>\n",
       "      <th>LON</th>\n",
       "      <th>LAT</th>\n",
       "      <th>CD_GEOCODI</th>\n",
       "    </tr>\n",
       "  </thead>\n",
       "  <tbody>\n",
       "    <tr>\n",
       "      <th>0</th>\n",
       "      <td>00000-000</td>\n",
       "      <td>-46.663830</td>\n",
       "      <td>-22.257613</td>\n",
       "      <td>313490505000032</td>\n",
       "    </tr>\n",
       "    <tr>\n",
       "      <th>1</th>\n",
       "      <td>00000-001</td>\n",
       "      <td>-67.838738</td>\n",
       "      <td>-9.921660</td>\n",
       "      <td>120040105000325</td>\n",
       "    </tr>\n",
       "    <tr>\n",
       "      <th>2</th>\n",
       "      <td>00000-002</td>\n",
       "      <td>-67.880508</td>\n",
       "      <td>-9.882072</td>\n",
       "      <td>120040105000325</td>\n",
       "    </tr>\n",
       "    <tr>\n",
       "      <th>3</th>\n",
       "      <td>00000-003</td>\n",
       "      <td>-46.514443</td>\n",
       "      <td>-21.820570</td>\n",
       "      <td>315180005000240</td>\n",
       "    </tr>\n",
       "    <tr>\n",
       "      <th>4</th>\n",
       "      <td>00000-004</td>\n",
       "      <td>-67.893353</td>\n",
       "      <td>-9.882038</td>\n",
       "      <td>120040105000325</td>\n",
       "    </tr>\n",
       "    <tr>\n",
       "      <th>...</th>\n",
       "      <td>...</td>\n",
       "      <td>...</td>\n",
       "      <td>...</td>\n",
       "      <td>...</td>\n",
       "    </tr>\n",
       "    <tr>\n",
       "      <th>429967</th>\n",
       "      <td>99990-999</td>\n",
       "      <td>-48.562378</td>\n",
       "      <td>-25.574579</td>\n",
       "      <td>411820405000166</td>\n",
       "    </tr>\n",
       "    <tr>\n",
       "      <th>429968</th>\n",
       "      <td>99999-990</td>\n",
       "      <td>-48.563207</td>\n",
       "      <td>-25.567153</td>\n",
       "      <td>411820405000105</td>\n",
       "    </tr>\n",
       "    <tr>\n",
       "      <th>429969</th>\n",
       "      <td>99999-998</td>\n",
       "      <td>-41.092554</td>\n",
       "      <td>-20.853443</td>\n",
       "      <td>320120905000204</td>\n",
       "    </tr>\n",
       "    <tr>\n",
       "      <th>429970</th>\n",
       "      <td>99999-999</td>\n",
       "      <td>-43.998336</td>\n",
       "      <td>-22.912780</td>\n",
       "      <td>330260120000035</td>\n",
       "    </tr>\n",
       "    <tr>\n",
       "      <th>429971</th>\n",
       "      <td>Sem CEP</td>\n",
       "      <td>-47.758636</td>\n",
       "      <td>-15.644745</td>\n",
       "      <td>530010805100314</td>\n",
       "    </tr>\n",
       "  </tbody>\n",
       "</table>\n",
       "<p>429994 rows × 4 columns</p>\n",
       "</div>"
      ],
      "text/plain": [
       "         POSTCODE        LON        LAT       CD_GEOCODI\n",
       "0       00000-000 -46.663830 -22.257613  313490505000032\n",
       "1       00000-001 -67.838738  -9.921660  120040105000325\n",
       "2       00000-002 -67.880508  -9.882072  120040105000325\n",
       "3       00000-003 -46.514443 -21.820570  315180005000240\n",
       "4       00000-004 -67.893353  -9.882038  120040105000325\n",
       "...           ...        ...        ...              ...\n",
       "429967  99990-999 -48.562378 -25.574579  411820405000166\n",
       "429968  99999-990 -48.563207 -25.567153  411820405000105\n",
       "429969  99999-998 -41.092554 -20.853443  320120905000204\n",
       "429970  99999-999 -43.998336 -22.912780  330260120000035\n",
       "429971    Sem CEP -47.758636 -15.644745  530010805100314\n",
       "\n",
       "[429994 rows x 4 columns]"
      ]
     },
     "execution_count": 87,
     "metadata": {},
     "output_type": "execute_result"
    }
   ],
   "source": [
    "final_df"
   ]
  },
  {
   "cell_type": "code",
   "execution_count": 88,
   "id": "ced2b605",
   "metadata": {},
   "outputs": [],
   "source": [
    "# final_df.to_csv(\"../data/processed/census_code_cep_coordinates.csv\", index=False)"
   ]
  },
  {
   "cell_type": "markdown",
   "id": "044eb379",
   "metadata": {},
   "source": [
    "## 4. Exemplo de aplicação\n",
    "\n",
    "Para ver um exemplo de aplicação vá para o notebook: [renda_per_capita.ipynb](renda_per_capita.ipynb)"
   ]
  }
 ],
 "metadata": {
  "kernelspec": {
   "display_name": "Python 3",
   "language": "python",
   "name": "python3"
  },
  "language_info": {
   "codemirror_mode": {
    "name": "ipython",
    "version": 3
   },
   "file_extension": ".py",
   "mimetype": "text/x-python",
   "name": "python",
   "nbconvert_exporter": "python",
   "pygments_lexer": "ipython3",
   "version": "3.7.10"
  }
 },
 "nbformat": 4,
 "nbformat_minor": 5
}
