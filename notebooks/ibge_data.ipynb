{
 "cells": [
  {
   "cell_type": "markdown",
   "id": "encouraging-reducing",
   "metadata": {},
   "source": [
    "# Downloading IBGE data"
   ]
  },
  {
   "cell_type": "code",
   "execution_count": 1,
   "id": "usual-environment",
   "metadata": {},
   "outputs": [],
   "source": [
    "import os\n",
    "import zipfile\n",
    "from ftplib import FTP\n",
    "import pandas as pd\n",
    "from tqdm import tqdm\n",
    "import geopandas as gpd\n",
    "from shapely.geometry import Point\n",
    "from geopandas.tools import sjoin"
   ]
  },
  {
   "cell_type": "markdown",
   "id": "ambient-outside",
   "metadata": {},
   "source": [
    "# Agregados por Setores Censitários"
   ]
  },
  {
   "cell_type": "code",
   "execution_count": 9,
   "id": "impossible-elite",
   "metadata": {},
   "outputs": [
    {
     "data": {
      "text/plain": [
       "['AC_20171016.zip',\n",
       " 'AL_20171016.zip',\n",
       " 'AM_20171016.zip',\n",
       " 'AP_20171016.zip',\n",
       " 'BA_20171016.zip',\n",
       " 'CE_20171016.zip',\n",
       " 'DF_20171016.zip',\n",
       " 'ES_20171016.zip',\n",
       " 'GO_20171016.zip',\n",
       " 'MA_20171016.zip',\n",
       " 'MG_20171016.zip',\n",
       " 'MS_20171016.zip',\n",
       " 'MT_20171016.zip',\n",
       " 'PA_20171016.zip',\n",
       " 'PB_20171016.zip',\n",
       " 'PE_20200219.zip',\n",
       " 'PI_20171016.zip',\n",
       " 'PR_20171016.zip',\n",
       " 'RJ_20171016.zip',\n",
       " 'RN_20171016.zip',\n",
       " 'RO_20171016.zip',\n",
       " 'RR_20171016.zip',\n",
       " 'RS_20171016.zip',\n",
       " 'SC_20171016.zip',\n",
       " 'SE_20171016.zip',\n",
       " 'SP_Capital_20190823.zip',\n",
       " 'SP_Exceto_a_Capital_20190207.zip',\n",
       " 'TO_20171016.zip']"
      ]
     },
     "execution_count": 9,
     "metadata": {},
     "output_type": "execute_result"
    }
   ],
   "source": [
    "ftp = FTP(\"ftp.ibge.gov.br\")\n",
    "ftp.login()\n",
    "ftp.cwd(\"Censos/Censo_Demografico_2010/Resultados_do_Universo/Agregados_por_Setores_Censitarios/\")\n",
    "files_on_ftp_path = ftp.nlst(\".\")\n",
    "\n",
    "zip_files_to_download = [filename for filename in files_on_ftp_path if \".zip\" in filename and \"Doc\" not in filename]\n",
    "zip_files_to_download"
   ]
  },
  {
   "cell_type": "code",
   "execution_count": 27,
   "id": "special-tourism",
   "metadata": {},
   "outputs": [],
   "source": [
    "for filename in zip_files_to_download:\n",
    "    print(\"Downloading {}...\".format(filename))\n",
    "    with open(f\"../data/agregados/{filename}\", \"wb\") as fp:\n",
    "        ftp.retrbinary(\"RETR {}\".format(filename), fp.write)"
   ]
  },
  {
   "cell_type": "markdown",
   "id": "accompanied-shell",
   "metadata": {},
   "source": [
    "# SHP files dos setores censitários"
   ]
  },
  {
   "cell_type": "code",
   "execution_count": 22,
   "id": "wireless-blink",
   "metadata": {},
   "outputs": [],
   "source": [
    "ftp = FTP(\"geoftp.ibge.gov.br\")\n",
    "ftp.login()\n",
    "ftp.cwd(\"organizacao_do_territorio/malhas_territoriais/malhas_de_setores_censitarios__divisoes_intramunicipais/censo_2010/setores_censitarios_shp/\")\n",
    "folders_on_ftp_path = ftp.nlst(\".\")\n",
    "\n",
    "uf_folders = [filename for filename in folders_on_ftp_path if len(filename) == 2]"
   ]
  },
  {
   "cell_type": "code",
   "execution_count": 23,
   "id": "assumed-professional",
   "metadata": {
    "tags": []
   },
   "outputs": [
    {
     "data": {
      "text/plain": [
       "['ac',\n",
       " 'al',\n",
       " 'am',\n",
       " 'ap',\n",
       " 'ba',\n",
       " 'ce',\n",
       " 'df',\n",
       " 'es',\n",
       " 'go',\n",
       " 'ma',\n",
       " 'mg',\n",
       " 'ms',\n",
       " 'mt',\n",
       " 'pa',\n",
       " 'pb',\n",
       " 'pe',\n",
       " 'pi',\n",
       " 'pr',\n",
       " 'rj',\n",
       " 'rn',\n",
       " 'ro',\n",
       " 'rr',\n",
       " 'rs',\n",
       " 'sc',\n",
       " 'se',\n",
       " 'sp',\n",
       " 'to']"
      ]
     },
     "execution_count": 23,
     "metadata": {},
     "output_type": "execute_result"
    }
   ],
   "source": [
    "uf_folders"
   ]
  },
  {
   "cell_type": "code",
   "execution_count": 28,
   "id": "exempt-opera",
   "metadata": {},
   "outputs": [
    {
     "name": "stdout",
     "output_type": "stream",
     "text": [
      "Downloading ac_setores_censitarios.zip ...\n",
      "Downloading al_setores_censitarios.zip ...\n",
      "Downloading am_setores_censitarios.zip ...\n",
      "Downloading ap_setores_censitarios.zip ...\n",
      "Downloading ba_setores_censitarios.zip ...\n",
      "Downloading ce_setores_censitarios.zip ...\n",
      "Downloading df_setores_censitarios.zip ...\n",
      "Downloading es_setores_censitarios.zip ...\n",
      "Downloading go_setores _censitarios.zip ...\n",
      "Downloading ma_setores_censitarios.zip ...\n",
      "Downloading mg_setores_censitarios.zip ...\n",
      "Downloading ms_setores_censitarios.zip ...\n",
      "Downloading mt_setores_censitarios.zip ...\n",
      "Downloading pa_setores_censitarios.zip ...\n",
      "Downloading pb_setores_censitarios.zip ...\n",
      "Downloading pe_setores_censitarios.zip ...\n",
      "Downloading pi_setores_censitarios.zip ...\n",
      "Downloading pr_setores_censitarios.zip ...\n",
      "Downloading rj_setores_censitarios.zip ...\n",
      "Downloading rn_setores_censitarios.zip ...\n",
      "Downloading ro_setores_censitarios.zip ...\n",
      "Downloading rr_setores_censitarios.zip ...\n",
      "Downloading rs_setores_censitarios.zip ...\n",
      "Downloading sc_setores_censitarios.zip ...\n",
      "Downloading se_setores_censitarios.zip ...\n",
      "Downloading sp_setores_censitarios.zip ...\n",
      "Downloading to_setores_censitarios.zip ...\n"
     ]
    }
   ],
   "source": [
    "for uf in uf_folders:\n",
    "    ftp = FTP(\"geoftp.ibge.gov.br\")\n",
    "    ftp.login()\n",
    "    ftp.cwd(f\"organizacao_do_territorio/malhas_territoriais/malhas_de_setores_censitarios__divisoes_intramunicipais/censo_2010/setores_censitarios_shp/{uf}/\")\n",
    "    # the following is needed because of a typo on GO file\n",
    "    files_on_ftp_path = ftp.nlst(\".\")\n",
    "    file_to_download = [filename for filename in files_on_ftp_path if \"setores\" in filename][0]\n",
    "    print(f\"Downloading {file_to_download} ...\")\n",
    "    with open(f\"../data/setores_censitarios/{uf}_setores_censitarios.zip\", \"wb\") as fp:\n",
    "        ftp.retrbinary(f\"RETR {file_to_download}\", fp.write)"
   ]
  },
  {
   "cell_type": "markdown",
   "id": "modular-worst",
   "metadata": {},
   "source": [
    "# Extraindo os zipfiles para uma pasta comum\n",
    "\n",
    "## SHP"
   ]
  },
  {
   "cell_type": "code",
   "execution_count": 6,
   "id": "perceived-potter",
   "metadata": {},
   "outputs": [
    {
     "data": {
      "text/plain": [
       "['../data/agregados/AM_20171016.zip',\n",
       " '../data/agregados/RN_20171016.zip',\n",
       " '../data/agregados/PR_20171016.zip']"
      ]
     },
     "execution_count": 6,
     "metadata": {},
     "output_type": "execute_result"
    }
   ],
   "source": [
    "agregados_files = os.listdir(\"../data/agregados/\")\n",
    "agregados_path_files = [os.path.join(\"../data/agregados/\", file) for file in agregados_files]\n",
    "agregados_path_files[:3]"
   ]
  },
  {
   "cell_type": "code",
   "execution_count": 9,
   "id": "subject-martin",
   "metadata": {},
   "outputs": [
    {
     "name": "stderr",
     "output_type": "stream",
     "text": [
      "100%|██████████| 28/28 [01:04<00:00,  2.30s/it]\n"
     ]
    }
   ],
   "source": [
    "directory_to_extract_to = \"../data/agregados/extracted/\"\n",
    "\n",
    "for path_to_zip_file in tqdm(agregados_path_files):\n",
    "    with zipfile.ZipFile(path_to_zip_file, 'r') as zip_ref:\n",
    "        zip_ref.extractall(directory_to_extract_to)"
   ]
  },
  {
   "cell_type": "markdown",
   "id": "digital-ghost",
   "metadata": {},
   "source": [
    "# Setores Censitários"
   ]
  },
  {
   "cell_type": "code",
   "execution_count": 16,
   "id": "hourly-noise",
   "metadata": {},
   "outputs": [
    {
     "data": {
      "text/plain": [
       "['../data/setores_censitarios/am_setores_censitarios.zip',\n",
       " '../data/setores_censitarios/ms_setores_censitarios.zip',\n",
       " '../data/setores_censitarios/es_setores_censitarios.zip']"
      ]
     },
     "execution_count": 16,
     "metadata": {},
     "output_type": "execute_result"
    }
   ],
   "source": [
    "sc_files = [file for file in os.listdir(\"../data/setores_censitarios/\") if \".zip\" in file]\n",
    "sc_path_files = [os.path.join(\"../data/setores_censitarios/\", file) for file in sc_files]\n",
    "sc_path_files[:3]"
   ]
  },
  {
   "cell_type": "code",
   "execution_count": 17,
   "id": "exclusive-worship",
   "metadata": {},
   "outputs": [
    {
     "name": "stderr",
     "output_type": "stream",
     "text": [
      "100%|██████████| 27/27 [00:05<00:00,  4.90it/s]\n"
     ]
    }
   ],
   "source": [
    "directory_to_extract_to = \"../data/setores_censitarios/extracted/\"\n",
    "\n",
    "for path_to_zip_file in tqdm(sc_path_files):\n",
    "    with zipfile.ZipFile(path_to_zip_file, 'r') as zip_ref:\n",
    "        zip_ref.extractall(directory_to_extract_to)"
   ]
  },
  {
   "cell_type": "markdown",
   "id": "cooked-victim",
   "metadata": {},
   "source": [
    "# Open Addresses Brazil\n",
    "\n",
    "Source: [https://www.kaggle.com/openaddresses/openaddresses-south-america?select=brazil.csv](https://www.kaggle.com/openaddresses/openaddresses-south-america?select=brazil.csv)"
   ]
  },
  {
   "cell_type": "code",
   "execution_count": 17,
   "id": "governing-waste",
   "metadata": {},
   "outputs": [
    {
     "data": {
      "text/html": [
       "<div>\n",
       "<style scoped>\n",
       "    .dataframe tbody tr th:only-of-type {\n",
       "        vertical-align: middle;\n",
       "    }\n",
       "\n",
       "    .dataframe tbody tr th {\n",
       "        vertical-align: top;\n",
       "    }\n",
       "\n",
       "    .dataframe thead th {\n",
       "        text-align: right;\n",
       "    }\n",
       "</style>\n",
       "<table border=\"1\" class=\"dataframe\">\n",
       "  <thead>\n",
       "    <tr style=\"text-align: right;\">\n",
       "      <th></th>\n",
       "      <th>LON</th>\n",
       "      <th>LAT</th>\n",
       "      <th>POSTCODE</th>\n",
       "    </tr>\n",
       "  </thead>\n",
       "  <tbody>\n",
       "    <tr>\n",
       "      <th>0</th>\n",
       "      <td>-67.0496</td>\n",
       "      <td>-10.071417</td>\n",
       "      <td>69945-000</td>\n",
       "    </tr>\n",
       "    <tr>\n",
       "      <th>1</th>\n",
       "      <td>-67.0496</td>\n",
       "      <td>-10.071417</td>\n",
       "      <td>69945-000</td>\n",
       "    </tr>\n",
       "    <tr>\n",
       "      <th>2</th>\n",
       "      <td>-67.0496</td>\n",
       "      <td>-10.071417</td>\n",
       "      <td>69945-000</td>\n",
       "    </tr>\n",
       "    <tr>\n",
       "      <th>3</th>\n",
       "      <td>-67.0496</td>\n",
       "      <td>-10.071417</td>\n",
       "      <td>69945-000</td>\n",
       "    </tr>\n",
       "    <tr>\n",
       "      <th>4</th>\n",
       "      <td>-67.0496</td>\n",
       "      <td>-10.071417</td>\n",
       "      <td>69945-000</td>\n",
       "    </tr>\n",
       "  </tbody>\n",
       "</table>\n",
       "</div>"
      ],
      "text/plain": [
       "       LON        LAT   POSTCODE\n",
       "0 -67.0496 -10.071417  69945-000\n",
       "1 -67.0496 -10.071417  69945-000\n",
       "2 -67.0496 -10.071417  69945-000\n",
       "3 -67.0496 -10.071417  69945-000\n",
       "4 -67.0496 -10.071417  69945-000"
      ]
     },
     "execution_count": 17,
     "metadata": {},
     "output_type": "execute_result"
    }
   ],
   "source": [
    "cep_coords = pd.read_csv(\"../data/open_addresses_south_america/brazil.csv\", usecols=[\"POSTCODE\", \"LAT\", \"LON\"])\n",
    "cep_coords.head()"
   ]
  },
  {
   "cell_type": "code",
   "execution_count": 21,
   "id": "foreign-sugar",
   "metadata": {},
   "outputs": [],
   "source": [
    "cep_coords = cep_coords.groupby(by=\"POSTCODE\").median().reset_index()"
   ]
  },
  {
   "cell_type": "code",
   "execution_count": 23,
   "id": "incomplete-encounter",
   "metadata": {},
   "outputs": [
    {
     "data": {
      "text/plain": [
       "(429972, 3)"
      ]
     },
     "execution_count": 23,
     "metadata": {},
     "output_type": "execute_result"
    }
   ],
   "source": [
    "cep_coords.shape"
   ]
  },
  {
   "cell_type": "code",
   "execution_count": 25,
   "id": "bulgarian-distribution",
   "metadata": {},
   "outputs": [
    {
     "data": {
      "text/html": [
       "<div>\n",
       "<style scoped>\n",
       "    .dataframe tbody tr th:only-of-type {\n",
       "        vertical-align: middle;\n",
       "    }\n",
       "\n",
       "    .dataframe tbody tr th {\n",
       "        vertical-align: top;\n",
       "    }\n",
       "\n",
       "    .dataframe thead th {\n",
       "        text-align: right;\n",
       "    }\n",
       "</style>\n",
       "<table border=\"1\" class=\"dataframe\">\n",
       "  <thead>\n",
       "    <tr style=\"text-align: right;\">\n",
       "      <th></th>\n",
       "      <th>POSTCODE</th>\n",
       "      <th>LON</th>\n",
       "      <th>LAT</th>\n",
       "    </tr>\n",
       "  </thead>\n",
       "  <tbody>\n",
       "    <tr>\n",
       "      <th>0</th>\n",
       "      <td>00000-000</td>\n",
       "      <td>-46.663830</td>\n",
       "      <td>-22.257613</td>\n",
       "    </tr>\n",
       "    <tr>\n",
       "      <th>1</th>\n",
       "      <td>00000-001</td>\n",
       "      <td>-67.838738</td>\n",
       "      <td>-9.921660</td>\n",
       "    </tr>\n",
       "    <tr>\n",
       "      <th>2</th>\n",
       "      <td>00000-002</td>\n",
       "      <td>-67.880508</td>\n",
       "      <td>-9.882072</td>\n",
       "    </tr>\n",
       "    <tr>\n",
       "      <th>3</th>\n",
       "      <td>00000-003</td>\n",
       "      <td>-46.514443</td>\n",
       "      <td>-21.820570</td>\n",
       "    </tr>\n",
       "    <tr>\n",
       "      <th>4</th>\n",
       "      <td>00000-004</td>\n",
       "      <td>-67.893353</td>\n",
       "      <td>-9.882038</td>\n",
       "    </tr>\n",
       "  </tbody>\n",
       "</table>\n",
       "</div>"
      ],
      "text/plain": [
       "    POSTCODE        LON        LAT\n",
       "0  00000-000 -46.663830 -22.257613\n",
       "1  00000-001 -67.838738  -9.921660\n",
       "2  00000-002 -67.880508  -9.882072\n",
       "3  00000-003 -46.514443 -21.820570\n",
       "4  00000-004 -67.893353  -9.882038"
      ]
     },
     "execution_count": 25,
     "metadata": {},
     "output_type": "execute_result"
    }
   ],
   "source": [
    "cep_coords.head()"
   ]
  },
  {
   "cell_type": "code",
   "execution_count": 58,
   "id": "sapphire-induction",
   "metadata": {},
   "outputs": [],
   "source": [
    "cep_coords_gdf = gpd.GeoDataFrame(\n",
    "    cep_coords, geometry=gpd.points_from_xy(cep_coords[\"LON\"], cep_coords[\"LAT\"]))"
   ]
  },
  {
   "cell_type": "code",
   "execution_count": 59,
   "id": "compatible-possible",
   "metadata": {},
   "outputs": [
    {
     "data": {
      "text/html": [
       "<div>\n",
       "<style scoped>\n",
       "    .dataframe tbody tr th:only-of-type {\n",
       "        vertical-align: middle;\n",
       "    }\n",
       "\n",
       "    .dataframe tbody tr th {\n",
       "        vertical-align: top;\n",
       "    }\n",
       "\n",
       "    .dataframe thead th {\n",
       "        text-align: right;\n",
       "    }\n",
       "</style>\n",
       "<table border=\"1\" class=\"dataframe\">\n",
       "  <thead>\n",
       "    <tr style=\"text-align: right;\">\n",
       "      <th></th>\n",
       "      <th>POSTCODE</th>\n",
       "      <th>LON</th>\n",
       "      <th>LAT</th>\n",
       "      <th>geometry</th>\n",
       "    </tr>\n",
       "  </thead>\n",
       "  <tbody>\n",
       "    <tr>\n",
       "      <th>0</th>\n",
       "      <td>00000-000</td>\n",
       "      <td>-46.663830</td>\n",
       "      <td>-22.257613</td>\n",
       "      <td>POINT (-46.66383 -22.25761)</td>\n",
       "    </tr>\n",
       "    <tr>\n",
       "      <th>1</th>\n",
       "      <td>00000-001</td>\n",
       "      <td>-67.838738</td>\n",
       "      <td>-9.921660</td>\n",
       "      <td>POINT (-67.83874 -9.92166)</td>\n",
       "    </tr>\n",
       "    <tr>\n",
       "      <th>2</th>\n",
       "      <td>00000-002</td>\n",
       "      <td>-67.880508</td>\n",
       "      <td>-9.882072</td>\n",
       "      <td>POINT (-67.88051 -9.88207)</td>\n",
       "    </tr>\n",
       "    <tr>\n",
       "      <th>3</th>\n",
       "      <td>00000-003</td>\n",
       "      <td>-46.514443</td>\n",
       "      <td>-21.820570</td>\n",
       "      <td>POINT (-46.51444 -21.82057)</td>\n",
       "    </tr>\n",
       "    <tr>\n",
       "      <th>4</th>\n",
       "      <td>00000-004</td>\n",
       "      <td>-67.893353</td>\n",
       "      <td>-9.882038</td>\n",
       "      <td>POINT (-67.89335 -9.88204)</td>\n",
       "    </tr>\n",
       "    <tr>\n",
       "      <th>...</th>\n",
       "      <td>...</td>\n",
       "      <td>...</td>\n",
       "      <td>...</td>\n",
       "      <td>...</td>\n",
       "    </tr>\n",
       "    <tr>\n",
       "      <th>429967</th>\n",
       "      <td>99990-999</td>\n",
       "      <td>-48.562378</td>\n",
       "      <td>-25.574579</td>\n",
       "      <td>POINT (-48.56238 -25.57458)</td>\n",
       "    </tr>\n",
       "    <tr>\n",
       "      <th>429968</th>\n",
       "      <td>99999-990</td>\n",
       "      <td>-48.563207</td>\n",
       "      <td>-25.567153</td>\n",
       "      <td>POINT (-48.56321 -25.56715)</td>\n",
       "    </tr>\n",
       "    <tr>\n",
       "      <th>429969</th>\n",
       "      <td>99999-998</td>\n",
       "      <td>-41.092554</td>\n",
       "      <td>-20.853443</td>\n",
       "      <td>POINT (-41.09255 -20.85344)</td>\n",
       "    </tr>\n",
       "    <tr>\n",
       "      <th>429970</th>\n",
       "      <td>99999-999</td>\n",
       "      <td>-43.998336</td>\n",
       "      <td>-22.912780</td>\n",
       "      <td>POINT (-43.99834 -22.91278)</td>\n",
       "    </tr>\n",
       "    <tr>\n",
       "      <th>429971</th>\n",
       "      <td>Sem CEP</td>\n",
       "      <td>-47.758636</td>\n",
       "      <td>-15.644745</td>\n",
       "      <td>POINT (-47.75864 -15.64475)</td>\n",
       "    </tr>\n",
       "  </tbody>\n",
       "</table>\n",
       "<p>429972 rows × 4 columns</p>\n",
       "</div>"
      ],
      "text/plain": [
       "         POSTCODE        LON        LAT                     geometry\n",
       "0       00000-000 -46.663830 -22.257613  POINT (-46.66383 -22.25761)\n",
       "1       00000-001 -67.838738  -9.921660   POINT (-67.83874 -9.92166)\n",
       "2       00000-002 -67.880508  -9.882072   POINT (-67.88051 -9.88207)\n",
       "3       00000-003 -46.514443 -21.820570  POINT (-46.51444 -21.82057)\n",
       "4       00000-004 -67.893353  -9.882038   POINT (-67.89335 -9.88204)\n",
       "...           ...        ...        ...                          ...\n",
       "429967  99990-999 -48.562378 -25.574579  POINT (-48.56238 -25.57458)\n",
       "429968  99999-990 -48.563207 -25.567153  POINT (-48.56321 -25.56715)\n",
       "429969  99999-998 -41.092554 -20.853443  POINT (-41.09255 -20.85344)\n",
       "429970  99999-999 -43.998336 -22.912780  POINT (-43.99834 -22.91278)\n",
       "429971    Sem CEP -47.758636 -15.644745  POINT (-47.75864 -15.64475)\n",
       "\n",
       "[429972 rows x 4 columns]"
      ]
     },
     "execution_count": 59,
     "metadata": {},
     "output_type": "execute_result"
    }
   ],
   "source": [
    "cep_coords_gdf"
   ]
  },
  {
   "cell_type": "code",
   "execution_count": 65,
   "id": "corporate-crazy",
   "metadata": {},
   "outputs": [
    {
     "data": {
      "text/plain": [
       "['24SEE250GC_SIR.shp', '32SEE250GC_SIR.shp', '16SEE250GC_SIR.shp']"
      ]
     },
     "execution_count": 65,
     "metadata": {},
     "output_type": "execute_result"
    }
   ],
   "source": [
    "shp_files = [file for file in os.listdir('../data/setores_censitarios/extracted/') if \".shp\" in file]\n",
    "shp_files[:3]"
   ]
  },
  {
   "cell_type": "code",
   "execution_count": 66,
   "id": "legal-republican",
   "metadata": {},
   "outputs": [],
   "source": [
    "gdfs = [gpd.read_file(f'../data/setores_censitarios/extracted/{filename}') for filename in shp_files]\n",
    "census_sector_gpd = pd.concat(gdfs)\n",
    "del gdfs"
   ]
  },
  {
   "cell_type": "code",
   "execution_count": 67,
   "id": "changed-sigma",
   "metadata": {},
   "outputs": [
    {
     "data": {
      "text/html": [
       "<div>\n",
       "<style scoped>\n",
       "    .dataframe tbody tr th:only-of-type {\n",
       "        vertical-align: middle;\n",
       "    }\n",
       "\n",
       "    .dataframe tbody tr th {\n",
       "        vertical-align: top;\n",
       "    }\n",
       "\n",
       "    .dataframe thead th {\n",
       "        text-align: right;\n",
       "    }\n",
       "</style>\n",
       "<table border=\"1\" class=\"dataframe\">\n",
       "  <thead>\n",
       "    <tr style=\"text-align: right;\">\n",
       "      <th></th>\n",
       "      <th>CD_GEOCODI</th>\n",
       "      <th>geometry</th>\n",
       "    </tr>\n",
       "  </thead>\n",
       "  <tbody>\n",
       "    <tr>\n",
       "      <th>0</th>\n",
       "      <td>240020805000006</td>\n",
       "      <td>POLYGON ((-36.90843 -5.58145, -36.90834 -5.582...</td>\n",
       "    </tr>\n",
       "    <tr>\n",
       "      <th>1</th>\n",
       "      <td>240020805000007</td>\n",
       "      <td>POLYGON ((-36.90586 -5.58354, -36.90556 -5.585...</td>\n",
       "    </tr>\n",
       "    <tr>\n",
       "      <th>2</th>\n",
       "      <td>240020805000008</td>\n",
       "      <td>POLYGON ((-36.90780 -5.58389, -36.90739 -5.586...</td>\n",
       "    </tr>\n",
       "    <tr>\n",
       "      <th>3</th>\n",
       "      <td>240020805000009</td>\n",
       "      <td>POLYGON ((-36.90939 -5.58418, -36.90933 -5.585...</td>\n",
       "    </tr>\n",
       "    <tr>\n",
       "      <th>4</th>\n",
       "      <td>240020805000010</td>\n",
       "      <td>POLYGON ((-36.91135 -5.58195, -36.91135 -5.581...</td>\n",
       "    </tr>\n",
       "  </tbody>\n",
       "</table>\n",
       "</div>"
      ],
      "text/plain": [
       "        CD_GEOCODI                                           geometry\n",
       "0  240020805000006  POLYGON ((-36.90843 -5.58145, -36.90834 -5.582...\n",
       "1  240020805000007  POLYGON ((-36.90586 -5.58354, -36.90556 -5.585...\n",
       "2  240020805000008  POLYGON ((-36.90780 -5.58389, -36.90739 -5.586...\n",
       "3  240020805000009  POLYGON ((-36.90939 -5.58418, -36.90933 -5.585...\n",
       "4  240020805000010  POLYGON ((-36.91135 -5.58195, -36.91135 -5.581..."
      ]
     },
     "execution_count": 67,
     "metadata": {},
     "output_type": "execute_result"
    }
   ],
   "source": [
    "census_sector_gpd = census_sector_gpd[[\"CD_GEOCODI\", \"geometry\"]]\n",
    "census_sector_gpd.head()"
   ]
  },
  {
   "cell_type": "code",
   "execution_count": 71,
   "id": "other-silly",
   "metadata": {},
   "outputs": [
    {
     "name": "stderr",
     "output_type": "stream",
     "text": [
      "/opt/miniconda3/envs/ibge_env/lib/python3.7/site-packages/ipykernel_launcher.py:1: UserWarning: CRS mismatch between the CRS of left geometries and the CRS of right geometries.\n",
      "Use `to_crs()` to reproject one of the input geometries to match the CRS of the other.\n",
      "\n",
      "Left CRS: None\n",
      "Right CRS: EPSG:4674\n",
      "\n",
      "  \"\"\"Entry point for launching an IPython kernel.\n"
     ]
    }
   ],
   "source": [
    "pointInPolys = sjoin(cep_coords_gdf, census_sector_gpd, how='left')"
   ]
  },
  {
   "cell_type": "code",
   "execution_count": 72,
   "id": "single-hanging",
   "metadata": {},
   "outputs": [
    {
     "data": {
      "text/plain": [
       "POSTCODE        0\n",
       "LON             0\n",
       "LAT             0\n",
       "geometry        0\n",
       "index_right    15\n",
       "CD_GEOCODI     15\n",
       "dtype: int64"
      ]
     },
     "execution_count": 72,
     "metadata": {},
     "output_type": "execute_result"
    }
   ],
   "source": [
    "pointInPolys.isnull().sum()"
   ]
  },
  {
   "cell_type": "code",
   "execution_count": 73,
   "id": "exotic-pendant",
   "metadata": {},
   "outputs": [
    {
     "data": {
      "text/html": [
       "<div>\n",
       "<style scoped>\n",
       "    .dataframe tbody tr th:only-of-type {\n",
       "        vertical-align: middle;\n",
       "    }\n",
       "\n",
       "    .dataframe tbody tr th {\n",
       "        vertical-align: top;\n",
       "    }\n",
       "\n",
       "    .dataframe thead th {\n",
       "        text-align: right;\n",
       "    }\n",
       "</style>\n",
       "<table border=\"1\" class=\"dataframe\">\n",
       "  <thead>\n",
       "    <tr style=\"text-align: right;\">\n",
       "      <th></th>\n",
       "      <th>POSTCODE</th>\n",
       "      <th>LON</th>\n",
       "      <th>LAT</th>\n",
       "      <th>geometry</th>\n",
       "      <th>index_right</th>\n",
       "      <th>CD_GEOCODI</th>\n",
       "    </tr>\n",
       "  </thead>\n",
       "  <tbody>\n",
       "    <tr>\n",
       "      <th>0</th>\n",
       "      <td>00000-000</td>\n",
       "      <td>-46.663830</td>\n",
       "      <td>-22.257613</td>\n",
       "      <td>POINT (-46.66383 -22.25761)</td>\n",
       "      <td>16996.0</td>\n",
       "      <td>313490505000032</td>\n",
       "    </tr>\n",
       "    <tr>\n",
       "      <th>1</th>\n",
       "      <td>00000-001</td>\n",
       "      <td>-67.838738</td>\n",
       "      <td>-9.921660</td>\n",
       "      <td>POINT (-67.83874 -9.92166)</td>\n",
       "      <td>688.0</td>\n",
       "      <td>120040105000325</td>\n",
       "    </tr>\n",
       "    <tr>\n",
       "      <th>2</th>\n",
       "      <td>00000-002</td>\n",
       "      <td>-67.880508</td>\n",
       "      <td>-9.882072</td>\n",
       "      <td>POINT (-67.88051 -9.88207)</td>\n",
       "      <td>688.0</td>\n",
       "      <td>120040105000325</td>\n",
       "    </tr>\n",
       "    <tr>\n",
       "      <th>3</th>\n",
       "      <td>00000-003</td>\n",
       "      <td>-46.514443</td>\n",
       "      <td>-21.820570</td>\n",
       "      <td>POINT (-46.51444 -21.82057)</td>\n",
       "      <td>24568.0</td>\n",
       "      <td>315180005000240</td>\n",
       "    </tr>\n",
       "    <tr>\n",
       "      <th>4</th>\n",
       "      <td>00000-004</td>\n",
       "      <td>-67.893353</td>\n",
       "      <td>-9.882038</td>\n",
       "      <td>POINT (-67.89335 -9.88204)</td>\n",
       "      <td>688.0</td>\n",
       "      <td>120040105000325</td>\n",
       "    </tr>\n",
       "    <tr>\n",
       "      <th>...</th>\n",
       "      <td>...</td>\n",
       "      <td>...</td>\n",
       "      <td>...</td>\n",
       "      <td>...</td>\n",
       "      <td>...</td>\n",
       "      <td>...</td>\n",
       "    </tr>\n",
       "    <tr>\n",
       "      <th>429967</th>\n",
       "      <td>99990-999</td>\n",
       "      <td>-48.562378</td>\n",
       "      <td>-25.574579</td>\n",
       "      <td>POINT (-48.56238 -25.57458)</td>\n",
       "      <td>12827.0</td>\n",
       "      <td>411820405000166</td>\n",
       "    </tr>\n",
       "    <tr>\n",
       "      <th>429968</th>\n",
       "      <td>99999-990</td>\n",
       "      <td>-48.563207</td>\n",
       "      <td>-25.567153</td>\n",
       "      <td>POINT (-48.56321 -25.56715)</td>\n",
       "      <td>12766.0</td>\n",
       "      <td>411820405000105</td>\n",
       "    </tr>\n",
       "    <tr>\n",
       "      <th>429969</th>\n",
       "      <td>99999-998</td>\n",
       "      <td>-41.092554</td>\n",
       "      <td>-20.853443</td>\n",
       "      <td>POINT (-41.09255 -20.85344)</td>\n",
       "      <td>953.0</td>\n",
       "      <td>320120905000204</td>\n",
       "    </tr>\n",
       "    <tr>\n",
       "      <th>429970</th>\n",
       "      <td>99999-999</td>\n",
       "      <td>-43.998336</td>\n",
       "      <td>-22.912780</td>\n",
       "      <td>POINT (-43.99834 -22.91278)</td>\n",
       "      <td>7481.0</td>\n",
       "      <td>330260120000035</td>\n",
       "    </tr>\n",
       "    <tr>\n",
       "      <th>429971</th>\n",
       "      <td>Sem CEP</td>\n",
       "      <td>-47.758636</td>\n",
       "      <td>-15.644745</td>\n",
       "      <td>POINT (-47.75864 -15.64475)</td>\n",
       "      <td>1925.0</td>\n",
       "      <td>530010805100314</td>\n",
       "    </tr>\n",
       "  </tbody>\n",
       "</table>\n",
       "<p>429994 rows × 6 columns</p>\n",
       "</div>"
      ],
      "text/plain": [
       "         POSTCODE        LON        LAT                     geometry  \\\n",
       "0       00000-000 -46.663830 -22.257613  POINT (-46.66383 -22.25761)   \n",
       "1       00000-001 -67.838738  -9.921660   POINT (-67.83874 -9.92166)   \n",
       "2       00000-002 -67.880508  -9.882072   POINT (-67.88051 -9.88207)   \n",
       "3       00000-003 -46.514443 -21.820570  POINT (-46.51444 -21.82057)   \n",
       "4       00000-004 -67.893353  -9.882038   POINT (-67.89335 -9.88204)   \n",
       "...           ...        ...        ...                          ...   \n",
       "429967  99990-999 -48.562378 -25.574579  POINT (-48.56238 -25.57458)   \n",
       "429968  99999-990 -48.563207 -25.567153  POINT (-48.56321 -25.56715)   \n",
       "429969  99999-998 -41.092554 -20.853443  POINT (-41.09255 -20.85344)   \n",
       "429970  99999-999 -43.998336 -22.912780  POINT (-43.99834 -22.91278)   \n",
       "429971    Sem CEP -47.758636 -15.644745  POINT (-47.75864 -15.64475)   \n",
       "\n",
       "        index_right       CD_GEOCODI  \n",
       "0           16996.0  313490505000032  \n",
       "1             688.0  120040105000325  \n",
       "2             688.0  120040105000325  \n",
       "3           24568.0  315180005000240  \n",
       "4             688.0  120040105000325  \n",
       "...             ...              ...  \n",
       "429967      12827.0  411820405000166  \n",
       "429968      12766.0  411820405000105  \n",
       "429969        953.0  320120905000204  \n",
       "429970       7481.0  330260120000035  \n",
       "429971       1925.0  530010805100314  \n",
       "\n",
       "[429994 rows x 6 columns]"
      ]
     },
     "execution_count": 73,
     "metadata": {},
     "output_type": "execute_result"
    }
   ],
   "source": [
    "pointInPolys.dropna()"
   ]
  },
  {
   "cell_type": "code",
   "execution_count": 74,
   "id": "continental-homework",
   "metadata": {},
   "outputs": [],
   "source": [
    "final_df = pointInPolys.drop(columns=[\"geometry\", \"index_right\"])"
   ]
  },
  {
   "cell_type": "code",
   "execution_count": 77,
   "id": "cognitive-witch",
   "metadata": {},
   "outputs": [],
   "source": [
    "final_df = pd.DataFrame(final_df)"
   ]
  },
  {
   "cell_type": "code",
   "execution_count": 79,
   "id": "statistical-navigation",
   "metadata": {},
   "outputs": [
    {
     "data": {
      "text/plain": [
       "POSTCODE       0\n",
       "LON            0\n",
       "LAT            0\n",
       "CD_GEOCODI    15\n",
       "dtype: int64"
      ]
     },
     "execution_count": 79,
     "metadata": {},
     "output_type": "execute_result"
    }
   ],
   "source": [
    "final_df.isnull().sum()"
   ]
  },
  {
   "cell_type": "code",
   "execution_count": 80,
   "id": "matched-airline",
   "metadata": {},
   "outputs": [],
   "source": [
    "final_df = final_df.dropna()"
   ]
  },
  {
   "cell_type": "code",
   "execution_count": 83,
   "id": "southern-sugar",
   "metadata": {},
   "outputs": [
    {
     "name": "stderr",
     "output_type": "stream",
     "text": [
      "/opt/miniconda3/envs/ibge_env/lib/python3.7/site-packages/ipykernel_launcher.py:1: SettingWithCopyWarning: \n",
      "A value is trying to be set on a copy of a slice from a DataFrame.\n",
      "Try using .loc[row_indexer,col_indexer] = value instead\n",
      "\n",
      "See the caveats in the documentation: https://pandas.pydata.org/pandas-docs/stable/user_guide/indexing.html#returning-a-view-versus-a-copy\n",
      "  \"\"\"Entry point for launching an IPython kernel.\n"
     ]
    }
   ],
   "source": [
    "final_df[\"CD_GEOCODI\"] = final_df[\"CD_GEOCODI\"].astype(int)"
   ]
  },
  {
   "cell_type": "code",
   "execution_count": 84,
   "id": "suspected-sponsorship",
   "metadata": {},
   "outputs": [
    {
     "name": "stdout",
     "output_type": "stream",
     "text": [
      "<class 'pandas.core.frame.DataFrame'>\n",
      "Int64Index: 429994 entries, 0 to 429971\n",
      "Data columns (total 4 columns):\n",
      " #   Column      Non-Null Count   Dtype  \n",
      "---  ------      --------------   -----  \n",
      " 0   POSTCODE    429994 non-null  object \n",
      " 1   LON         429994 non-null  float64\n",
      " 2   LAT         429994 non-null  float64\n",
      " 3   CD_GEOCODI  429994 non-null  int64  \n",
      "dtypes: float64(2), int64(1), object(1)\n",
      "memory usage: 16.4+ MB\n"
     ]
    }
   ],
   "source": [
    "final_df.info()"
   ]
  },
  {
   "cell_type": "code",
   "execution_count": 88,
   "id": "breathing-emergency",
   "metadata": {},
   "outputs": [],
   "source": [
    "# final_df.to_csv(\"../data/processed/census_code_cep_coordinates.csv\", index=False)"
   ]
  },
  {
   "cell_type": "code",
   "execution_count": 87,
   "id": "activated-adapter",
   "metadata": {},
   "outputs": [
    {
     "data": {
      "text/html": [
       "<div>\n",
       "<style scoped>\n",
       "    .dataframe tbody tr th:only-of-type {\n",
       "        vertical-align: middle;\n",
       "    }\n",
       "\n",
       "    .dataframe tbody tr th {\n",
       "        vertical-align: top;\n",
       "    }\n",
       "\n",
       "    .dataframe thead th {\n",
       "        text-align: right;\n",
       "    }\n",
       "</style>\n",
       "<table border=\"1\" class=\"dataframe\">\n",
       "  <thead>\n",
       "    <tr style=\"text-align: right;\">\n",
       "      <th></th>\n",
       "      <th>POSTCODE</th>\n",
       "      <th>LON</th>\n",
       "      <th>LAT</th>\n",
       "      <th>CD_GEOCODI</th>\n",
       "    </tr>\n",
       "  </thead>\n",
       "  <tbody>\n",
       "    <tr>\n",
       "      <th>0</th>\n",
       "      <td>00000-000</td>\n",
       "      <td>-46.663830</td>\n",
       "      <td>-22.257613</td>\n",
       "      <td>313490505000032</td>\n",
       "    </tr>\n",
       "    <tr>\n",
       "      <th>1</th>\n",
       "      <td>00000-001</td>\n",
       "      <td>-67.838738</td>\n",
       "      <td>-9.921660</td>\n",
       "      <td>120040105000325</td>\n",
       "    </tr>\n",
       "    <tr>\n",
       "      <th>2</th>\n",
       "      <td>00000-002</td>\n",
       "      <td>-67.880508</td>\n",
       "      <td>-9.882072</td>\n",
       "      <td>120040105000325</td>\n",
       "    </tr>\n",
       "    <tr>\n",
       "      <th>3</th>\n",
       "      <td>00000-003</td>\n",
       "      <td>-46.514443</td>\n",
       "      <td>-21.820570</td>\n",
       "      <td>315180005000240</td>\n",
       "    </tr>\n",
       "    <tr>\n",
       "      <th>4</th>\n",
       "      <td>00000-004</td>\n",
       "      <td>-67.893353</td>\n",
       "      <td>-9.882038</td>\n",
       "      <td>120040105000325</td>\n",
       "    </tr>\n",
       "    <tr>\n",
       "      <th>...</th>\n",
       "      <td>...</td>\n",
       "      <td>...</td>\n",
       "      <td>...</td>\n",
       "      <td>...</td>\n",
       "    </tr>\n",
       "    <tr>\n",
       "      <th>429967</th>\n",
       "      <td>99990-999</td>\n",
       "      <td>-48.562378</td>\n",
       "      <td>-25.574579</td>\n",
       "      <td>411820405000166</td>\n",
       "    </tr>\n",
       "    <tr>\n",
       "      <th>429968</th>\n",
       "      <td>99999-990</td>\n",
       "      <td>-48.563207</td>\n",
       "      <td>-25.567153</td>\n",
       "      <td>411820405000105</td>\n",
       "    </tr>\n",
       "    <tr>\n",
       "      <th>429969</th>\n",
       "      <td>99999-998</td>\n",
       "      <td>-41.092554</td>\n",
       "      <td>-20.853443</td>\n",
       "      <td>320120905000204</td>\n",
       "    </tr>\n",
       "    <tr>\n",
       "      <th>429970</th>\n",
       "      <td>99999-999</td>\n",
       "      <td>-43.998336</td>\n",
       "      <td>-22.912780</td>\n",
       "      <td>330260120000035</td>\n",
       "    </tr>\n",
       "    <tr>\n",
       "      <th>429971</th>\n",
       "      <td>Sem CEP</td>\n",
       "      <td>-47.758636</td>\n",
       "      <td>-15.644745</td>\n",
       "      <td>530010805100314</td>\n",
       "    </tr>\n",
       "  </tbody>\n",
       "</table>\n",
       "<p>429994 rows × 4 columns</p>\n",
       "</div>"
      ],
      "text/plain": [
       "         POSTCODE        LON        LAT       CD_GEOCODI\n",
       "0       00000-000 -46.663830 -22.257613  313490505000032\n",
       "1       00000-001 -67.838738  -9.921660  120040105000325\n",
       "2       00000-002 -67.880508  -9.882072  120040105000325\n",
       "3       00000-003 -46.514443 -21.820570  315180005000240\n",
       "4       00000-004 -67.893353  -9.882038  120040105000325\n",
       "...           ...        ...        ...              ...\n",
       "429967  99990-999 -48.562378 -25.574579  411820405000166\n",
       "429968  99999-990 -48.563207 -25.567153  411820405000105\n",
       "429969  99999-998 -41.092554 -20.853443  320120905000204\n",
       "429970  99999-999 -43.998336 -22.912780  330260120000035\n",
       "429971    Sem CEP -47.758636 -15.644745  530010805100314\n",
       "\n",
       "[429994 rows x 4 columns]"
      ]
     },
     "execution_count": 87,
     "metadata": {},
     "output_type": "execute_result"
    }
   ],
   "source": [
    "final_df"
   ]
  },
  {
   "cell_type": "code",
   "execution_count": 2,
   "id": "literary-discipline",
   "metadata": {},
   "outputs": [
    {
     "data": {
      "text/html": [
       "<div>\n",
       "<style scoped>\n",
       "    .dataframe tbody tr th:only-of-type {\n",
       "        vertical-align: middle;\n",
       "    }\n",
       "\n",
       "    .dataframe tbody tr th {\n",
       "        vertical-align: top;\n",
       "    }\n",
       "\n",
       "    .dataframe thead th {\n",
       "        text-align: right;\n",
       "    }\n",
       "</style>\n",
       "<table border=\"1\" class=\"dataframe\">\n",
       "  <thead>\n",
       "    <tr style=\"text-align: right;\">\n",
       "      <th></th>\n",
       "      <th>POSTCODE</th>\n",
       "      <th>LON</th>\n",
       "      <th>LAT</th>\n",
       "      <th>CD_GEOCODI</th>\n",
       "    </tr>\n",
       "  </thead>\n",
       "  <tbody>\n",
       "    <tr>\n",
       "      <th>0</th>\n",
       "      <td>00000-000</td>\n",
       "      <td>-46.663830</td>\n",
       "      <td>-22.257613</td>\n",
       "      <td>313490505000032</td>\n",
       "    </tr>\n",
       "    <tr>\n",
       "      <th>1</th>\n",
       "      <td>00000-001</td>\n",
       "      <td>-67.838738</td>\n",
       "      <td>-9.921660</td>\n",
       "      <td>120040105000325</td>\n",
       "    </tr>\n",
       "    <tr>\n",
       "      <th>2</th>\n",
       "      <td>00000-002</td>\n",
       "      <td>-67.880508</td>\n",
       "      <td>-9.882072</td>\n",
       "      <td>120040105000325</td>\n",
       "    </tr>\n",
       "    <tr>\n",
       "      <th>3</th>\n",
       "      <td>00000-003</td>\n",
       "      <td>-46.514443</td>\n",
       "      <td>-21.820570</td>\n",
       "      <td>315180005000240</td>\n",
       "    </tr>\n",
       "    <tr>\n",
       "      <th>4</th>\n",
       "      <td>00000-004</td>\n",
       "      <td>-67.893353</td>\n",
       "      <td>-9.882038</td>\n",
       "      <td>120040105000325</td>\n",
       "    </tr>\n",
       "  </tbody>\n",
       "</table>\n",
       "</div>"
      ],
      "text/plain": [
       "    POSTCODE        LON        LAT       CD_GEOCODI\n",
       "0  00000-000 -46.663830 -22.257613  313490505000032\n",
       "1  00000-001 -67.838738  -9.921660  120040105000325\n",
       "2  00000-002 -67.880508  -9.882072  120040105000325\n",
       "3  00000-003 -46.514443 -21.820570  315180005000240\n",
       "4  00000-004 -67.893353  -9.882038  120040105000325"
      ]
     },
     "execution_count": 2,
     "metadata": {},
     "output_type": "execute_result"
    }
   ],
   "source": [
    "census_code_cep_coordinates = pd.read_csv(\"../data/processed/census_code_cep_coordinates.csv\")\n",
    "census_code_cep_coordinates.head()"
   ]
  },
  {
   "cell_type": "code",
   "execution_count": 24,
   "id": "developing-burst",
   "metadata": {},
   "outputs": [],
   "source": [
    "pessoa_renda_paths = []\n",
    "for dirname, dirnames, filenames in os.walk('../data/agregados/extracted/'):\n",
    "    # get all pessoarenda paths\n",
    "    for filename in filenames:\n",
    "        if (\"PessoaRenda\" in filename) and (\".csv\" in filename):\n",
    "            pessoa_renda_paths.append(os.path.join(dirname, filename))"
   ]
  },
  {
   "cell_type": "code",
   "execution_count": 25,
   "id": "verbal-attitude",
   "metadata": {},
   "outputs": [
    {
     "data": {
      "text/plain": [
       "['../data/agregados/extracted/SE/Base informaçoes setores2010 universo SE/CSV/PessoaRenda_SE.csv',\n",
       " '../data/agregados/extracted/PE_20171016/PE/Base informaçoes setores2010 universo PE/CSV/PessoaRenda_PE.csv',\n",
       " '../data/agregados/extracted/SC/Base informaçoes setores2010 universo SC/CSV/PessoaRenda_SC.csv',\n",
       " '../data/agregados/extracted/PB/Base informaçoes setores2010 universo PB/CSV/PessoaRenda_PB.csv',\n",
       " '../data/agregados/extracted/Base informaçoes setores2010 universo ES/CSV/PessoaRenda_ES.csv',\n",
       " '../data/agregados/extracted/MS/Base informaçoes setores2010 universo MS/CSV/PessoaRenda_MS.csv',\n",
       " '../data/agregados/extracted/MT/Base informaçoes setores2010 universo MT/CSV/PessoaRenda_MT.csv',\n",
       " '../data/agregados/extracted/GO/Base informaçoes setores2010 universo GO/CSV/PessoaRenda_GO.csv',\n",
       " '../data/agregados/extracted/AC/Base informaçoes setores2010 universo AC/CSV/PessoaRenda_AC.csv',\n",
       " '../data/agregados/extracted/AM/Base informaçoes setores2010 universo AM/CSV/PessoaRenda_AM.csv',\n",
       " '../data/agregados/extracted/MA/Base informaçoes setores2010 universo MA/CSV/PessoaRenda_MA.csv',\n",
       " '../data/agregados/extracted/DF/Base informaçoes setores2010 universo DF/CSV/PessoaRenda_DF.csv',\n",
       " '../data/agregados/extracted/AP/Base informaçoes setores2010 universo AP/CSV/PessoaRenda_AP.csv',\n",
       " '../data/agregados/extracted/AL/Base informaçoes setores2010 universo AL/CSV/PessoaRenda_AL.csv',\n",
       " '../data/agregados/extracted/MG/Base informaçoes setores2010 universo MG/CSV/PessoaRenda_MG.csv',\n",
       " '../data/agregados/extracted/Base informaçoes setores2010 universo SP_Capital/CSV/PessoaRenda_SP1.csv',\n",
       " '../data/agregados/extracted/SP Exceto a Capital/Base informaçoes setores2010 universo SP_Exceto_Capital/CSV/PessoaRenda_SP2.csv',\n",
       " '../data/agregados/extracted/Base informacoes setores2010 universo TO/CSV/PessoaRenda_TO.csv',\n",
       " '../data/agregados/extracted/RR/Base informaçoes setores2010 universo RR/CSV/PessoaRenda_RR.csv',\n",
       " '../data/agregados/extracted/RN/Base informaçoes setores2010 universo RN/CSV/PessoaRenda_RN.csv',\n",
       " '../data/agregados/extracted/RO/Base informaçoes setores2010 universo RO/CSV/PessoaRenda_RO.csv',\n",
       " '../data/agregados/extracted/PR/Base informaçoes setores2010 universo PR/CSV/PessoaRenda_PR.csv',\n",
       " '../data/agregados/extracted/PI/Base informaçoes setores2010 universo PI/CSV/PessoaRenda_PI.csv',\n",
       " '../data/agregados/extracted/PA/Base informaçoes setores2010 universo PA/CSV/PessoaRenda_PA.csv',\n",
       " '../data/agregados/extracted/BA/Base informaçoes setores2010 universo BA/CSV/PessoaRenda_BA.csv',\n",
       " '../data/agregados/extracted/CE/Base informaçoes setores2010 universo CE/CSV/PessoaRenda_CE.csv',\n",
       " '../data/agregados/extracted/RJ/Base informaçoes setores2010 universo RJ/CSV/PessoaRenda_RJ.csv',\n",
       " '../data/agregados/extracted/RS_20150527/RS/Base informaçoes setores2010 universo RS/CSV/PessoaRenda_RS.csv']"
      ]
     },
     "execution_count": 25,
     "metadata": {},
     "output_type": "execute_result"
    }
   ],
   "source": [
    "pessoa_renda_paths"
   ]
  },
  {
   "cell_type": "markdown",
   "id": "sorted-sensitivity",
   "metadata": {},
   "source": [
    "# Da documentação de arquivos PessoaRenda_UF\n",
    "\n",
    "- V020: Pessoas de 10 anos ou mais de idade com ou sem rendimento\n",
    "- V022: Total do rendimento nominal mensal das pessoas de 10 anos ou mais de idade"
   ]
  },
  {
   "cell_type": "code",
   "execution_count": 52,
   "id": "laughing-decade",
   "metadata": {},
   "outputs": [
    {
     "name": "stderr",
     "output_type": "stream",
     "text": [
      "/opt/miniconda3/envs/ibge_env/lib/python3.7/site-packages/IPython/core/interactiveshell.py:3357: DtypeWarning: Columns (21,23) have mixed types.Specify dtype option on import or set low_memory=False.\n",
      "  if (await self.run_code(code, result,  async_=asy)):\n"
     ]
    }
   ],
   "source": [
    "dfs = [pd.read_csv(f\"{file_path}\", sep=\";\", usecols=[\"Cod_setor\", \"V020\", \"V022\"]) for file_path in pessoa_renda_paths]\n",
    "pessoa_renda_df = pd.concat(dfs)\n",
    "del dfs"
   ]
  },
  {
   "cell_type": "code",
   "execution_count": 53,
   "id": "pregnant-welcome",
   "metadata": {},
   "outputs": [
    {
     "data": {
      "text/html": [
       "<div>\n",
       "<style scoped>\n",
       "    .dataframe tbody tr th:only-of-type {\n",
       "        vertical-align: middle;\n",
       "    }\n",
       "\n",
       "    .dataframe tbody tr th {\n",
       "        vertical-align: top;\n",
       "    }\n",
       "\n",
       "    .dataframe thead th {\n",
       "        text-align: right;\n",
       "    }\n",
       "</style>\n",
       "<table border=\"1\" class=\"dataframe\">\n",
       "  <thead>\n",
       "    <tr style=\"text-align: right;\">\n",
       "      <th></th>\n",
       "      <th>Cod_setor</th>\n",
       "      <th>V020</th>\n",
       "      <th>V022</th>\n",
       "    </tr>\n",
       "  </thead>\n",
       "  <tbody>\n",
       "    <tr>\n",
       "      <th>0</th>\n",
       "      <td>280010005000001</td>\n",
       "      <td>727</td>\n",
       "      <td>263997</td>\n",
       "    </tr>\n",
       "    <tr>\n",
       "      <th>1</th>\n",
       "      <td>280010005000002</td>\n",
       "      <td>378</td>\n",
       "      <td>178925</td>\n",
       "    </tr>\n",
       "    <tr>\n",
       "      <th>2</th>\n",
       "      <td>280010005000003</td>\n",
       "      <td>395</td>\n",
       "      <td>91417</td>\n",
       "    </tr>\n",
       "    <tr>\n",
       "      <th>3</th>\n",
       "      <td>280010005000004</td>\n",
       "      <td>296</td>\n",
       "      <td>62218</td>\n",
       "    </tr>\n",
       "    <tr>\n",
       "      <th>4</th>\n",
       "      <td>280010005000005</td>\n",
       "      <td>51</td>\n",
       "      <td>11121</td>\n",
       "    </tr>\n",
       "    <tr>\n",
       "      <th>...</th>\n",
       "      <td>...</td>\n",
       "      <td>...</td>\n",
       "      <td>...</td>\n",
       "    </tr>\n",
       "    <tr>\n",
       "      <th>22327</th>\n",
       "      <td>432380425000007</td>\n",
       "      <td>58</td>\n",
       "      <td>97468</td>\n",
       "    </tr>\n",
       "    <tr>\n",
       "      <th>22328</th>\n",
       "      <td>432380425000008</td>\n",
       "      <td>223</td>\n",
       "      <td>172340</td>\n",
       "    </tr>\n",
       "    <tr>\n",
       "      <th>22329</th>\n",
       "      <td>432380425000009</td>\n",
       "      <td>9</td>\n",
       "      <td>14510</td>\n",
       "    </tr>\n",
       "    <tr>\n",
       "      <th>22330</th>\n",
       "      <td>432380425000010</td>\n",
       "      <td>68</td>\n",
       "      <td>79452</td>\n",
       "    </tr>\n",
       "    <tr>\n",
       "      <th>22331</th>\n",
       "      <td>432380425000011</td>\n",
       "      <td>167</td>\n",
       "      <td>128712</td>\n",
       "    </tr>\n",
       "  </tbody>\n",
       "</table>\n",
       "<p>310120 rows × 3 columns</p>\n",
       "</div>"
      ],
      "text/plain": [
       "             Cod_setor V020    V022\n",
       "0      280010005000001  727  263997\n",
       "1      280010005000002  378  178925\n",
       "2      280010005000003  395   91417\n",
       "3      280010005000004  296   62218\n",
       "4      280010005000005   51   11121\n",
       "...                ...  ...     ...\n",
       "22327  432380425000007   58   97468\n",
       "22328  432380425000008  223  172340\n",
       "22329  432380425000009    9   14510\n",
       "22330  432380425000010   68   79452\n",
       "22331  432380425000011  167  128712\n",
       "\n",
       "[310120 rows x 3 columns]"
      ]
     },
     "execution_count": 53,
     "metadata": {},
     "output_type": "execute_result"
    }
   ],
   "source": [
    "pessoa_renda_df"
   ]
  },
  {
   "cell_type": "code",
   "execution_count": 57,
   "id": "enormous-blame",
   "metadata": {},
   "outputs": [],
   "source": [
    "# cleaning wrong data\n",
    "pessoa_renda_df = pessoa_renda_df[pessoa_renda_df[\"V020\"]!=\"X\"]"
   ]
  },
  {
   "cell_type": "code",
   "execution_count": 59,
   "id": "searching-stroke",
   "metadata": {},
   "outputs": [
    {
     "name": "stderr",
     "output_type": "stream",
     "text": [
      "/opt/miniconda3/envs/ibge_env/lib/python3.7/site-packages/ipykernel_launcher.py:1: SettingWithCopyWarning: \n",
      "A value is trying to be set on a copy of a slice from a DataFrame.\n",
      "Try using .loc[row_indexer,col_indexer] = value instead\n",
      "\n",
      "See the caveats in the documentation: https://pandas.pydata.org/pandas-docs/stable/user_guide/indexing.html#returning-a-view-versus-a-copy\n",
      "  \"\"\"Entry point for launching an IPython kernel.\n",
      "/opt/miniconda3/envs/ibge_env/lib/python3.7/site-packages/ipykernel_launcher.py:2: SettingWithCopyWarning: \n",
      "A value is trying to be set on a copy of a slice from a DataFrame.\n",
      "Try using .loc[row_indexer,col_indexer] = value instead\n",
      "\n",
      "See the caveats in the documentation: https://pandas.pydata.org/pandas-docs/stable/user_guide/indexing.html#returning-a-view-versus-a-copy\n",
      "  \n"
     ]
    }
   ],
   "source": [
    "pessoa_renda_df[\"V020\"] = pessoa_renda_df[\"V020\"].astype(int)\n",
    "pessoa_renda_df[\"V022\"] = pessoa_renda_df[\"V022\"].astype(int)"
   ]
  },
  {
   "cell_type": "code",
   "execution_count": 60,
   "id": "composite-affect",
   "metadata": {},
   "outputs": [
    {
     "data": {
      "text/html": [
       "<div>\n",
       "<style scoped>\n",
       "    .dataframe tbody tr th:only-of-type {\n",
       "        vertical-align: middle;\n",
       "    }\n",
       "\n",
       "    .dataframe tbody tr th {\n",
       "        vertical-align: top;\n",
       "    }\n",
       "\n",
       "    .dataframe thead th {\n",
       "        text-align: right;\n",
       "    }\n",
       "</style>\n",
       "<table border=\"1\" class=\"dataframe\">\n",
       "  <thead>\n",
       "    <tr style=\"text-align: right;\">\n",
       "      <th></th>\n",
       "      <th>Cod_setor</th>\n",
       "      <th>V020</th>\n",
       "      <th>V022</th>\n",
       "    </tr>\n",
       "  </thead>\n",
       "  <tbody>\n",
       "    <tr>\n",
       "      <th>0</th>\n",
       "      <td>280010005000001</td>\n",
       "      <td>727</td>\n",
       "      <td>263997</td>\n",
       "    </tr>\n",
       "    <tr>\n",
       "      <th>1</th>\n",
       "      <td>280010005000002</td>\n",
       "      <td>378</td>\n",
       "      <td>178925</td>\n",
       "    </tr>\n",
       "    <tr>\n",
       "      <th>2</th>\n",
       "      <td>280010005000003</td>\n",
       "      <td>395</td>\n",
       "      <td>91417</td>\n",
       "    </tr>\n",
       "    <tr>\n",
       "      <th>3</th>\n",
       "      <td>280010005000004</td>\n",
       "      <td>296</td>\n",
       "      <td>62218</td>\n",
       "    </tr>\n",
       "    <tr>\n",
       "      <th>4</th>\n",
       "      <td>280010005000005</td>\n",
       "      <td>51</td>\n",
       "      <td>11121</td>\n",
       "    </tr>\n",
       "    <tr>\n",
       "      <th>...</th>\n",
       "      <td>...</td>\n",
       "      <td>...</td>\n",
       "      <td>...</td>\n",
       "    </tr>\n",
       "    <tr>\n",
       "      <th>22327</th>\n",
       "      <td>432380425000007</td>\n",
       "      <td>58</td>\n",
       "      <td>97468</td>\n",
       "    </tr>\n",
       "    <tr>\n",
       "      <th>22328</th>\n",
       "      <td>432380425000008</td>\n",
       "      <td>223</td>\n",
       "      <td>172340</td>\n",
       "    </tr>\n",
       "    <tr>\n",
       "      <th>22329</th>\n",
       "      <td>432380425000009</td>\n",
       "      <td>9</td>\n",
       "      <td>14510</td>\n",
       "    </tr>\n",
       "    <tr>\n",
       "      <th>22330</th>\n",
       "      <td>432380425000010</td>\n",
       "      <td>68</td>\n",
       "      <td>79452</td>\n",
       "    </tr>\n",
       "    <tr>\n",
       "      <th>22331</th>\n",
       "      <td>432380425000011</td>\n",
       "      <td>167</td>\n",
       "      <td>128712</td>\n",
       "    </tr>\n",
       "  </tbody>\n",
       "</table>\n",
       "<p>303818 rows × 3 columns</p>\n",
       "</div>"
      ],
      "text/plain": [
       "             Cod_setor  V020    V022\n",
       "0      280010005000001   727  263997\n",
       "1      280010005000002   378  178925\n",
       "2      280010005000003   395   91417\n",
       "3      280010005000004   296   62218\n",
       "4      280010005000005    51   11121\n",
       "...                ...   ...     ...\n",
       "22327  432380425000007    58   97468\n",
       "22328  432380425000008   223  172340\n",
       "22329  432380425000009     9   14510\n",
       "22330  432380425000010    68   79452\n",
       "22331  432380425000011   167  128712\n",
       "\n",
       "[303818 rows x 3 columns]"
      ]
     },
     "execution_count": 60,
     "metadata": {},
     "output_type": "execute_result"
    }
   ],
   "source": [
    "pessoa_renda_df"
   ]
  },
  {
   "cell_type": "code",
   "execution_count": 61,
   "id": "skilled-blackberry",
   "metadata": {},
   "outputs": [
    {
     "name": "stderr",
     "output_type": "stream",
     "text": [
      "/opt/miniconda3/envs/ibge_env/lib/python3.7/site-packages/ipykernel_launcher.py:1: SettingWithCopyWarning: \n",
      "A value is trying to be set on a copy of a slice from a DataFrame.\n",
      "Try using .loc[row_indexer,col_indexer] = value instead\n",
      "\n",
      "See the caveats in the documentation: https://pandas.pydata.org/pandas-docs/stable/user_guide/indexing.html#returning-a-view-versus-a-copy\n",
      "  \"\"\"Entry point for launching an IPython kernel.\n"
     ]
    }
   ],
   "source": [
    "pessoa_renda_df[\"renda_per_capita\"] = pessoa_renda_df[\"V022\"] / pessoa_renda_df[\"V020\"]"
   ]
  },
  {
   "cell_type": "code",
   "execution_count": 75,
   "id": "sought-camel",
   "metadata": {},
   "outputs": [],
   "source": [
    "pessoa_renda_df = pessoa_renda_df[[\"Cod_setor\", \"renda_per_capita\"]]"
   ]
  },
  {
   "cell_type": "code",
   "execution_count": 77,
   "id": "incorporated-realtor",
   "metadata": {},
   "outputs": [],
   "source": [
    "pessoa_renda_df = pessoa_renda_df.rename(columns={\n",
    "    \"Cod_setor\": \"CD_GEOCODI\"\n",
    "})"
   ]
  },
  {
   "cell_type": "code",
   "execution_count": 80,
   "id": "judicial-bahamas",
   "metadata": {},
   "outputs": [],
   "source": [
    "cep_coordinates_per_capita_income = census_code_cep_coordinates.merge(pessoa_renda_df, on=\"CD_GEOCODI\")"
   ]
  },
  {
   "cell_type": "code",
   "execution_count": 83,
   "id": "fifth-control",
   "metadata": {},
   "outputs": [],
   "source": [
    "cep_coordinates_per_capita_income.to_csv(\"../data/processed/cep_coordinates_per_capita_income.csv\", index=False)"
   ]
  },
  {
   "cell_type": "code",
   "execution_count": null,
   "id": "referenced-headset",
   "metadata": {},
   "outputs": [],
   "source": []
  }
 ],
 "metadata": {
  "kernelspec": {
   "display_name": "Python 3",
   "language": "python",
   "name": "python3"
  },
  "language_info": {
   "codemirror_mode": {
    "name": "ipython",
    "version": 3
   },
   "file_extension": ".py",
   "mimetype": "text/x-python",
   "name": "python",
   "nbconvert_exporter": "python",
   "pygments_lexer": "ipython3",
   "version": "3.7.10"
  }
 },
 "nbformat": 4,
 "nbformat_minor": 5
}
